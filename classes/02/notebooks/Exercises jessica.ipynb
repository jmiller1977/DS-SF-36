{
 "cells": [
  {
   "cell_type": "markdown",
   "metadata": {},
   "source": [
    "#### Exercise 1\n",
    "\n",
    "Create a function for the rock, paper, and scissors game. The function should have two arguments: user1's move and user2's move. The function should compare the two moves and output which move wins or if it results in a tie.\n",
    "\n",
    "Remember: Paper > Rock, Rock > Scissors, Scissors > Paper.\n",
    "\n",
    "\n",
    "Example:\n",
    "\n",
    "function(\"rock\", \"paper\")\n",
    "\n",
    "-> \"Paper wins\"\n",
    "\n",
    "function(\"scissors\", \"scissors\")\n",
    "\n",
    "-> \"Tie\""
   ]
  },
  {
   "cell_type": "code",
   "execution_count": 12,
   "metadata": {},
   "outputs": [
    {
     "name": "stdout",
     "output_type": "stream",
     "text": [
      "Tie\n",
      "paper win\n"
     ]
    }
   ],
   "source": [
    "def fuction1(value1, value2):\n",
    "    \n",
    "    if value1==value2:\n",
    "        print(\"Tie\")\n",
    "    else:\n",
    "        if value1==\"rock\":\n",
    "            if value2==\"scissors\":\n",
    "                print(\"rock win\")\n",
    "            elif value2==\"paper\":\n",
    "                print(\"paper win\")\n",
    "        elif value1==\"paper\":\n",
    "            if value2==\"scissors\":\n",
    "                print(\"scissors win\")\n",
    "            elif value2==\"rock\":\n",
    "                print(\"paper win\")\n",
    "        elif value1==\"scissors\":\n",
    "            if value2==\"rock\":\n",
    "                print(\"rock win\")\n",
    "            elif value2==\"paper\":\n",
    "                print(\"scissors win\")  \n",
    "                \n",
    "fuction1(\"scissors\",\"scissors\")\n",
    "fuction1(\"rock\",\"paper\")"
   ]
  },
  {
   "cell_type": "markdown",
   "metadata": {},
   "source": [
    "#### Exercise 2\n",
    "Write a function that takes a long string containing multiple words. Print the same string, except with the words in backwards order. For example, say I type the string:\n",
    "\n",
    "      -\"My name is Michele\"\n",
    "  \n",
    "Then I would get the string:\n",
    "\n",
    "      -\"Michele is name My\"\n",
    "\n",
    "\n"
   ]
  },
  {
   "cell_type": "code",
   "execution_count": 24,
   "metadata": {},
   "outputs": [
    {
     "data": {
      "text/plain": [
       "'Michele is name My'"
      ]
     },
     "execution_count": 24,
     "metadata": {},
     "output_type": "execute_result"
    }
   ],
   "source": [
    "mystr=\"My name is Michele\"\n",
    "\n",
    "def function2(str):\n",
    "    lst=mystr.split()\n",
    "    lst.reverse() \n",
    "    new_str=\"\"\n",
    "    for i in lst:\n",
    "        if i==lst[-1]:\n",
    "            new_str=new_str+i\n",
    "        else:    \n",
    "            new_str=new_str+i+\" \"\n",
    "    return new_str\n",
    "\n",
    "function2(mystr)\n",
    "      "
   ]
  },
  {
   "cell_type": "markdown",
   "metadata": {},
   "source": [
    "#### Exercise 3\n",
    "\n",
    "Write a function that takes a list and returns a new list that contains all the elements of the first list minus all the duplicates.\n",
    "\n",
    "Input: [2,3,4,4,5,5,5,6,6] \n",
    "\n",
    "Output: [2,3,4,5,6]"
   ]
  },
  {
   "cell_type": "code",
   "execution_count": 11,
   "metadata": {},
   "outputs": [
    {
     "data": {
      "text/plain": [
       "[2, 3, 4, 5, 6]"
      ]
     },
     "execution_count": 11,
     "metadata": {},
     "output_type": "execute_result"
    }
   ],
   "source": [
    "l= [2,3,4,4,5,5,5,6,6] \n",
    "def function3(lst):\n",
    "    new_lst=[]\n",
    "    \n",
    "    for i in lst:\n",
    "        if i not in new_lst:\n",
    "            new_lst.append(i)\n",
    "    return new_lst\n",
    "\n",
    "\n",
    "function3(l)\n"
   ]
  },
  {
   "cell_type": "markdown",
   "metadata": {},
   "source": [
    "#### Exercise 4\n",
    "Given a list of integers, return the integers that can be divided by other integers in that list.\n",
    "\n",
    "Input: [6,8,3,2,4,5,10]\n",
    "\n",
    "Output: [6,8,4,10]"
   ]
  },
  {
   "cell_type": "code",
   "execution_count": 37,
   "metadata": {},
   "outputs": [
    {
     "data": {
      "text/plain": [
       "[6, 8, 4, 10]"
      ]
     },
     "execution_count": 37,
     "metadata": {},
     "output_type": "execute_result"
    }
   ],
   "source": [
    "l=[6,8,3,2,4,5,10]\n",
    "\n",
    "def function4(lst_in):\n",
    "    j=lst_in\n",
    "    lst=[]\n",
    "    for i in lst_in:\n",
    "        for m in j:\n",
    "            if (i%m==0 or m%i==0) and i != m :\n",
    "                if i>m:\n",
    "                    lst.append(i)\n",
    "                else:\n",
    "                    lst.append(m)\n",
    "                \n",
    "    new_l=function3(lst)            \n",
    "    return new_l\n",
    "\n",
    "function4(l)                \n",
    "        \n",
    "    "
   ]
  },
  {
   "cell_type": "markdown",
   "metadata": {},
   "source": [
    "#### Exercise 5\n",
    "Create an anagram detection function. This function will take in a list of strings and returns the strings that have anagrams in that list.\n",
    "\n",
    "Input: ['bat', 'rats', 'god', 'dog', 'cat', 'arts', 'star']\n",
    "\n",
    "Output: ['rats', 'god', 'dog', 'arts', 'star'] "
   ]
  },
  {
   "cell_type": "code",
   "execution_count": 56,
   "metadata": {},
   "outputs": [
    {
     "data": {
      "text/plain": [
       "['rats', 'arts', 'star', 'god', 'dog']"
      ]
     },
     "execution_count": 56,
     "metadata": {},
     "output_type": "execute_result"
    }
   ],
   "source": [
    "l=['bat', 'rats', 'god', 'dog', 'cat', 'arts', 'star']\n",
    "\n",
    "def func(word1, word2):\n",
    "    counter=0\n",
    "    if len(word1)!=len(word2):\n",
    "        return False\n",
    "    else:\n",
    "        for i in word1:\n",
    "            for j in word2:\n",
    "                if i==j:\n",
    "                    counter+=1\n",
    "        if counter==len(word1):\n",
    "            return True\n",
    "        else:\n",
    "            return False\n",
    "        \n",
    "                       \n",
    "def function5(lst_in):\n",
    "    j=lst_in\n",
    "    lst=[]\n",
    "    for i in lst_in:\n",
    "        for m in j:\n",
    "            t_f=func(i,m)\n",
    "            if i!=m and t_f==True:\n",
    "                lst.append(i)\n",
    "                lst.append(m)\n",
    "    new_l=function3(lst)\n",
    "    return new_l  \n",
    "    \n",
    "function5(l)            "
   ]
  },
  {
   "cell_type": "markdown",
   "metadata": {},
   "source": [
    "#### Exercise 6\n",
    "\n",
    "Create a function that calculates the sums of each integer value in a number.\n",
    "\n",
    "Input: 1234\n",
    "\n",
    "Output: 1 + 2 + 3 + 4 =10"
   ]
  },
  {
   "cell_type": "code",
   "execution_count": 27,
   "metadata": {},
   "outputs": [
    {
     "data": {
      "text/plain": [
       "10"
      ]
     },
     "execution_count": 27,
     "metadata": {},
     "output_type": "execute_result"
    }
   ],
   "source": [
    "num=1234\n",
    "\n",
    "def function6(num_in):\n",
    "    num_char=str(num_in)\n",
    "    my_sum=0\n",
    "    for i in num_char:\n",
    "        my_sum=my_sum+int(i)\n",
    "    return my_sum\n",
    "\n",
    "function6(num)"
   ]
  },
  {
   "cell_type": "markdown",
   "metadata": {},
   "source": [
    "#### <b>What to do if you're finished</b>\n",
    "\n",
    "Try to do some Python exercises on the following websites:\n",
    "\n",
    "-http://www.practicepython.org/    \n",
    "    \n",
    "-https://github.com/zhiwehu/Python-programming-exercises\n",
    "\n",
    "-https://projecteuler.net/archives\n",
    "\n",
    "-https://www.quora.com/Where-can-I-find-basic-python-practice-problems\n",
    "\n",
    "-http://codingbat.com/python\n",
    "\n",
    "-http://exercism.io/languages/python/exercises"
   ]
  },
  {
   "cell_type": "code",
   "execution_count": null,
   "metadata": {
    "collapsed": true
   },
   "outputs": [],
   "source": []
  }
 ],
 "metadata": {
  "kernelspec": {
   "display_name": "Python 3",
   "language": "python",
   "name": "python3"
  },
  "language_info": {
   "codemirror_mode": {
    "name": "ipython",
    "version": 3
   },
   "file_extension": ".py",
   "mimetype": "text/x-python",
   "name": "python",
   "nbconvert_exporter": "python",
   "pygments_lexer": "ipython3",
   "version": "3.5.3"
  }
 },
 "nbformat": 4,
 "nbformat_minor": 2
}
