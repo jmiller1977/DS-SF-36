{
 "cells": [
  {
   "cell_type": "markdown",
   "metadata": {},
   "source": [
    "# DS-SF-36 | Class | 17 | Predicting Energy Loads"
   ]
  },
  {
   "cell_type": "code",
   "execution_count": 74,
   "metadata": {},
   "outputs": [],
   "source": [
    "import os\n",
    "\n",
    "import numpy as np\n",
    "import pandas as pd\n",
    "pd.set_option('display.max_rows', 10)\n",
    "pd.set_option('display.max_columns', 10)\n",
    "pd.set_option('display.notebook_repr_html', True)\n",
    "%matplotlib inline\n",
    "\n",
    "from sklearn.model_selection import train_test_split\n",
    "from sklearn import model_selection, tree, ensemble\n",
    "import matplotlib.pyplot as plt\n",
    "import statsmodels.formula.api as smf\n",
    "import statsmodels.api as sm\n",
    "\n",
    "from sklearn import linear_model"
   ]
  },
  {
   "cell_type": "code",
   "execution_count": 2,
   "metadata": {},
   "outputs": [
    {
     "data": {
      "text/html": [
       "<div>\n",
       "<style>\n",
       "    .dataframe thead tr:only-child th {\n",
       "        text-align: right;\n",
       "    }\n",
       "\n",
       "    .dataframe thead th {\n",
       "        text-align: left;\n",
       "    }\n",
       "\n",
       "    .dataframe tbody tr th {\n",
       "        vertical-align: top;\n",
       "    }\n",
       "</style>\n",
       "<table border=\"1\" class=\"dataframe\">\n",
       "  <thead>\n",
       "    <tr style=\"text-align: right;\">\n",
       "      <th></th>\n",
       "      <th>RC</th>\n",
       "      <th>SA</th>\n",
       "      <th>WA</th>\n",
       "      <th>RA</th>\n",
       "      <th>OH</th>\n",
       "      <th>OR</th>\n",
       "      <th>GA</th>\n",
       "      <th>GAD</th>\n",
       "      <th>HL</th>\n",
       "      <th>CL</th>\n",
       "    </tr>\n",
       "  </thead>\n",
       "  <tbody>\n",
       "    <tr>\n",
       "      <th>0</th>\n",
       "      <td>0.98</td>\n",
       "      <td>514.5</td>\n",
       "      <td>294.0</td>\n",
       "      <td>110.25</td>\n",
       "      <td>7.0</td>\n",
       "      <td>2</td>\n",
       "      <td>0.0</td>\n",
       "      <td>0</td>\n",
       "      <td>15.55</td>\n",
       "      <td>21.33</td>\n",
       "    </tr>\n",
       "    <tr>\n",
       "      <th>1</th>\n",
       "      <td>0.98</td>\n",
       "      <td>514.5</td>\n",
       "      <td>294.0</td>\n",
       "      <td>110.25</td>\n",
       "      <td>7.0</td>\n",
       "      <td>3</td>\n",
       "      <td>0.0</td>\n",
       "      <td>0</td>\n",
       "      <td>15.55</td>\n",
       "      <td>21.33</td>\n",
       "    </tr>\n",
       "    <tr>\n",
       "      <th>2</th>\n",
       "      <td>0.98</td>\n",
       "      <td>514.5</td>\n",
       "      <td>294.0</td>\n",
       "      <td>110.25</td>\n",
       "      <td>7.0</td>\n",
       "      <td>4</td>\n",
       "      <td>0.0</td>\n",
       "      <td>0</td>\n",
       "      <td>15.55</td>\n",
       "      <td>21.33</td>\n",
       "    </tr>\n",
       "    <tr>\n",
       "      <th>3</th>\n",
       "      <td>0.98</td>\n",
       "      <td>514.5</td>\n",
       "      <td>294.0</td>\n",
       "      <td>110.25</td>\n",
       "      <td>7.0</td>\n",
       "      <td>5</td>\n",
       "      <td>0.0</td>\n",
       "      <td>0</td>\n",
       "      <td>15.55</td>\n",
       "      <td>21.33</td>\n",
       "    </tr>\n",
       "    <tr>\n",
       "      <th>4</th>\n",
       "      <td>0.90</td>\n",
       "      <td>563.5</td>\n",
       "      <td>318.5</td>\n",
       "      <td>122.50</td>\n",
       "      <td>7.0</td>\n",
       "      <td>2</td>\n",
       "      <td>0.0</td>\n",
       "      <td>0</td>\n",
       "      <td>20.84</td>\n",
       "      <td>28.28</td>\n",
       "    </tr>\n",
       "  </tbody>\n",
       "</table>\n",
       "</div>"
      ],
      "text/plain": [
       "     RC     SA     WA      RA   OH  OR   GA  GAD     HL     CL\n",
       "0  0.98  514.5  294.0  110.25  7.0   2  0.0    0  15.55  21.33\n",
       "1  0.98  514.5  294.0  110.25  7.0   3  0.0    0  15.55  21.33\n",
       "2  0.98  514.5  294.0  110.25  7.0   4  0.0    0  15.55  21.33\n",
       "3  0.98  514.5  294.0  110.25  7.0   5  0.0    0  15.55  21.33\n",
       "4  0.90  563.5  318.5  122.50  7.0   2  0.0    0  20.84  28.28"
      ]
     },
     "execution_count": 2,
     "metadata": {},
     "output_type": "execute_result"
    }
   ],
   "source": [
    "df = pd.read_csv(os.path.join('..', 'datasets', 'dataset-energy-efficiency.csv'))\n",
    "\n",
    "df.head()"
   ]
  },
  {
   "cell_type": "markdown",
   "metadata": {},
   "source": [
    "# Split into 70/30 train/test."
   ]
  },
  {
   "cell_type": "code",
   "execution_count": 3,
   "metadata": {},
   "outputs": [],
   "source": [
    "train_df, test_df = train_test_split(df, test_size = 0.3)"
   ]
  },
  {
   "cell_type": "markdown",
   "metadata": {},
   "source": [
    "# EDA"
   ]
  },
  {
   "cell_type": "code",
   "execution_count": 11,
   "metadata": {},
   "outputs": [
    {
     "data": {
      "text/plain": [
       "(231, 10)"
      ]
     },
     "execution_count": 11,
     "metadata": {},
     "output_type": "execute_result"
    }
   ],
   "source": [
    "test_df.shape"
   ]
  },
  {
   "cell_type": "code",
   "execution_count": 4,
   "metadata": {},
   "outputs": [
    {
     "data": {
      "text/plain": [
       "(537, 10)"
      ]
     },
     "execution_count": 4,
     "metadata": {},
     "output_type": "execute_result"
    }
   ],
   "source": [
    "train_df.shape"
   ]
  },
  {
   "cell_type": "code",
   "execution_count": 5,
   "metadata": {},
   "outputs": [
    {
     "data": {
      "text/html": [
       "<div>\n",
       "<style>\n",
       "    .dataframe thead tr:only-child th {\n",
       "        text-align: right;\n",
       "    }\n",
       "\n",
       "    .dataframe thead th {\n",
       "        text-align: left;\n",
       "    }\n",
       "\n",
       "    .dataframe tbody tr th {\n",
       "        vertical-align: top;\n",
       "    }\n",
       "</style>\n",
       "<table border=\"1\" class=\"dataframe\">\n",
       "  <thead>\n",
       "    <tr style=\"text-align: right;\">\n",
       "      <th></th>\n",
       "      <th>count</th>\n",
       "      <th>mean</th>\n",
       "      <th>std</th>\n",
       "      <th>min</th>\n",
       "      <th>25%</th>\n",
       "      <th>50%</th>\n",
       "      <th>75%</th>\n",
       "      <th>max</th>\n",
       "    </tr>\n",
       "  </thead>\n",
       "  <tbody>\n",
       "    <tr>\n",
       "      <th>RC</th>\n",
       "      <td>537.0</td>\n",
       "      <td>0.763408</td>\n",
       "      <td>0.106448</td>\n",
       "      <td>0.62</td>\n",
       "      <td>0.66</td>\n",
       "      <td>0.74</td>\n",
       "      <td>0.86</td>\n",
       "      <td>0.98</td>\n",
       "    </tr>\n",
       "    <tr>\n",
       "      <th>SA</th>\n",
       "      <td>537.0</td>\n",
       "      <td>672.540968</td>\n",
       "      <td>88.595147</td>\n",
       "      <td>514.50</td>\n",
       "      <td>588.00</td>\n",
       "      <td>686.00</td>\n",
       "      <td>759.50</td>\n",
       "      <td>808.50</td>\n",
       "    </tr>\n",
       "    <tr>\n",
       "      <th>WA</th>\n",
       "      <td>537.0</td>\n",
       "      <td>318.226257</td>\n",
       "      <td>44.141791</td>\n",
       "      <td>245.00</td>\n",
       "      <td>294.00</td>\n",
       "      <td>318.50</td>\n",
       "      <td>343.00</td>\n",
       "      <td>416.50</td>\n",
       "    </tr>\n",
       "    <tr>\n",
       "      <th>RA</th>\n",
       "      <td>537.0</td>\n",
       "      <td>177.157356</td>\n",
       "      <td>45.342377</td>\n",
       "      <td>110.25</td>\n",
       "      <td>122.50</td>\n",
       "      <td>220.50</td>\n",
       "      <td>220.50</td>\n",
       "      <td>220.50</td>\n",
       "    </tr>\n",
       "    <tr>\n",
       "      <th>OH</th>\n",
       "      <td>537.0</td>\n",
       "      <td>5.220670</td>\n",
       "      <td>1.751386</td>\n",
       "      <td>3.50</td>\n",
       "      <td>3.50</td>\n",
       "      <td>3.50</td>\n",
       "      <td>7.00</td>\n",
       "      <td>7.00</td>\n",
       "    </tr>\n",
       "    <tr>\n",
       "      <th>OR</th>\n",
       "      <td>537.0</td>\n",
       "      <td>3.484171</td>\n",
       "      <td>1.114788</td>\n",
       "      <td>2.00</td>\n",
       "      <td>2.00</td>\n",
       "      <td>3.00</td>\n",
       "      <td>4.00</td>\n",
       "      <td>5.00</td>\n",
       "    </tr>\n",
       "    <tr>\n",
       "      <th>GA</th>\n",
       "      <td>537.0</td>\n",
       "      <td>0.238082</td>\n",
       "      <td>0.135346</td>\n",
       "      <td>0.00</td>\n",
       "      <td>0.10</td>\n",
       "      <td>0.25</td>\n",
       "      <td>0.40</td>\n",
       "      <td>0.40</td>\n",
       "    </tr>\n",
       "    <tr>\n",
       "      <th>GAD</th>\n",
       "      <td>537.0</td>\n",
       "      <td>2.741155</td>\n",
       "      <td>1.577016</td>\n",
       "      <td>0.00</td>\n",
       "      <td>1.00</td>\n",
       "      <td>3.00</td>\n",
       "      <td>4.00</td>\n",
       "      <td>5.00</td>\n",
       "    </tr>\n",
       "    <tr>\n",
       "      <th>HL</th>\n",
       "      <td>537.0</td>\n",
       "      <td>22.105791</td>\n",
       "      <td>10.037286</td>\n",
       "      <td>6.01</td>\n",
       "      <td>12.97</td>\n",
       "      <td>18.19</td>\n",
       "      <td>31.29</td>\n",
       "      <td>42.96</td>\n",
       "    </tr>\n",
       "    <tr>\n",
       "      <th>CL</th>\n",
       "      <td>537.0</td>\n",
       "      <td>24.358976</td>\n",
       "      <td>9.390379</td>\n",
       "      <td>10.94</td>\n",
       "      <td>15.59</td>\n",
       "      <td>21.33</td>\n",
       "      <td>32.83</td>\n",
       "      <td>48.03</td>\n",
       "    </tr>\n",
       "  </tbody>\n",
       "</table>\n",
       "</div>"
      ],
      "text/plain": [
       "     count        mean        std     min     25%     50%     75%     max\n",
       "RC   537.0    0.763408   0.106448    0.62    0.66    0.74    0.86    0.98\n",
       "SA   537.0  672.540968  88.595147  514.50  588.00  686.00  759.50  808.50\n",
       "WA   537.0  318.226257  44.141791  245.00  294.00  318.50  343.00  416.50\n",
       "RA   537.0  177.157356  45.342377  110.25  122.50  220.50  220.50  220.50\n",
       "OH   537.0    5.220670   1.751386    3.50    3.50    3.50    7.00    7.00\n",
       "OR   537.0    3.484171   1.114788    2.00    2.00    3.00    4.00    5.00\n",
       "GA   537.0    0.238082   0.135346    0.00    0.10    0.25    0.40    0.40\n",
       "GAD  537.0    2.741155   1.577016    0.00    1.00    3.00    4.00    5.00\n",
       "HL   537.0   22.105791  10.037286    6.01   12.97   18.19   31.29   42.96\n",
       "CL   537.0   24.358976   9.390379   10.94   15.59   21.33   32.83   48.03"
      ]
     },
     "execution_count": 5,
     "metadata": {},
     "output_type": "execute_result"
    }
   ],
   "source": [
    "train_df.describe().T"
   ]
  },
  {
   "cell_type": "markdown",
   "metadata": {},
   "source": [
    "### HL and CL are highly correlated.  There are also other variables that are highly correlated at over 80%."
   ]
  },
  {
   "cell_type": "code",
   "execution_count": 6,
   "metadata": {},
   "outputs": [
    {
     "data": {
      "text/html": [
       "<div>\n",
       "<style>\n",
       "    .dataframe thead tr:only-child th {\n",
       "        text-align: right;\n",
       "    }\n",
       "\n",
       "    .dataframe thead th {\n",
       "        text-align: left;\n",
       "    }\n",
       "\n",
       "    .dataframe tbody tr th {\n",
       "        vertical-align: top;\n",
       "    }\n",
       "</style>\n",
       "<table border=\"1\" class=\"dataframe\">\n",
       "  <thead>\n",
       "    <tr style=\"text-align: right;\">\n",
       "      <th></th>\n",
       "      <th>RC</th>\n",
       "      <th>SA</th>\n",
       "      <th>WA</th>\n",
       "      <th>RA</th>\n",
       "      <th>OH</th>\n",
       "      <th>OR</th>\n",
       "      <th>GA</th>\n",
       "      <th>GAD</th>\n",
       "      <th>HL</th>\n",
       "      <th>CL</th>\n",
       "    </tr>\n",
       "  </thead>\n",
       "  <tbody>\n",
       "    <tr>\n",
       "      <th>RC</th>\n",
       "      <td>1.000</td>\n",
       "      <td>-0.992</td>\n",
       "      <td>-0.209</td>\n",
       "      <td>-0.868</td>\n",
       "      <td>0.828</td>\n",
       "      <td>0.007</td>\n",
       "      <td>-0.003</td>\n",
       "      <td>0.024</td>\n",
       "      <td>0.624</td>\n",
       "      <td>0.644</td>\n",
       "    </tr>\n",
       "    <tr>\n",
       "      <th>SA</th>\n",
       "      <td>-0.992</td>\n",
       "      <td>1.000</td>\n",
       "      <td>0.201</td>\n",
       "      <td>0.879</td>\n",
       "      <td>-0.858</td>\n",
       "      <td>-0.009</td>\n",
       "      <td>0.004</td>\n",
       "      <td>-0.025</td>\n",
       "      <td>-0.658</td>\n",
       "      <td>-0.681</td>\n",
       "    </tr>\n",
       "    <tr>\n",
       "      <th>WA</th>\n",
       "      <td>-0.209</td>\n",
       "      <td>0.201</td>\n",
       "      <td>1.000</td>\n",
       "      <td>-0.290</td>\n",
       "      <td>0.277</td>\n",
       "      <td>0.005</td>\n",
       "      <td>-0.002</td>\n",
       "      <td>-0.031</td>\n",
       "      <td>0.453</td>\n",
       "      <td>0.424</td>\n",
       "    </tr>\n",
       "    <tr>\n",
       "      <th>RA</th>\n",
       "      <td>-0.868</td>\n",
       "      <td>0.879</td>\n",
       "      <td>-0.290</td>\n",
       "      <td>1.000</td>\n",
       "      <td>-0.973</td>\n",
       "      <td>-0.011</td>\n",
       "      <td>0.005</td>\n",
       "      <td>-0.010</td>\n",
       "      <td>-0.863</td>\n",
       "      <td>-0.872</td>\n",
       "    </tr>\n",
       "    <tr>\n",
       "      <th>OH</th>\n",
       "      <td>0.828</td>\n",
       "      <td>-0.858</td>\n",
       "      <td>0.277</td>\n",
       "      <td>-0.973</td>\n",
       "      <td>1.000</td>\n",
       "      <td>0.017</td>\n",
       "      <td>-0.004</td>\n",
       "      <td>0.015</td>\n",
       "      <td>0.888</td>\n",
       "      <td>0.901</td>\n",
       "    </tr>\n",
       "    <tr>\n",
       "      <th>OR</th>\n",
       "      <td>0.007</td>\n",
       "      <td>-0.009</td>\n",
       "      <td>0.005</td>\n",
       "      <td>-0.011</td>\n",
       "      <td>0.017</td>\n",
       "      <td>1.000</td>\n",
       "      <td>-0.018</td>\n",
       "      <td>-0.012</td>\n",
       "      <td>0.020</td>\n",
       "      <td>0.047</td>\n",
       "    </tr>\n",
       "    <tr>\n",
       "      <th>GA</th>\n",
       "      <td>-0.003</td>\n",
       "      <td>0.004</td>\n",
       "      <td>-0.002</td>\n",
       "      <td>0.005</td>\n",
       "      <td>-0.004</td>\n",
       "      <td>-0.018</td>\n",
       "      <td>1.000</td>\n",
       "      <td>0.290</td>\n",
       "      <td>0.274</td>\n",
       "      <td>0.205</td>\n",
       "    </tr>\n",
       "    <tr>\n",
       "      <th>GAD</th>\n",
       "      <td>0.024</td>\n",
       "      <td>-0.025</td>\n",
       "      <td>-0.031</td>\n",
       "      <td>-0.010</td>\n",
       "      <td>0.015</td>\n",
       "      <td>-0.012</td>\n",
       "      <td>0.290</td>\n",
       "      <td>1.000</td>\n",
       "      <td>0.116</td>\n",
       "      <td>0.075</td>\n",
       "    </tr>\n",
       "    <tr>\n",
       "      <th>HL</th>\n",
       "      <td>0.624</td>\n",
       "      <td>-0.658</td>\n",
       "      <td>0.453</td>\n",
       "      <td>-0.863</td>\n",
       "      <td>0.888</td>\n",
       "      <td>0.020</td>\n",
       "      <td>0.274</td>\n",
       "      <td>0.116</td>\n",
       "      <td>1.000</td>\n",
       "      <td>0.976</td>\n",
       "    </tr>\n",
       "    <tr>\n",
       "      <th>CL</th>\n",
       "      <td>0.644</td>\n",
       "      <td>-0.681</td>\n",
       "      <td>0.424</td>\n",
       "      <td>-0.872</td>\n",
       "      <td>0.901</td>\n",
       "      <td>0.047</td>\n",
       "      <td>0.205</td>\n",
       "      <td>0.075</td>\n",
       "      <td>0.976</td>\n",
       "      <td>1.000</td>\n",
       "    </tr>\n",
       "  </tbody>\n",
       "</table>\n",
       "</div>"
      ],
      "text/plain": [
       "        RC     SA     WA     RA     OH     OR     GA    GAD     HL     CL\n",
       "RC   1.000 -0.992 -0.209 -0.868  0.828  0.007 -0.003  0.024  0.624  0.644\n",
       "SA  -0.992  1.000  0.201  0.879 -0.858 -0.009  0.004 -0.025 -0.658 -0.681\n",
       "WA  -0.209  0.201  1.000 -0.290  0.277  0.005 -0.002 -0.031  0.453  0.424\n",
       "RA  -0.868  0.879 -0.290  1.000 -0.973 -0.011  0.005 -0.010 -0.863 -0.872\n",
       "OH   0.828 -0.858  0.277 -0.973  1.000  0.017 -0.004  0.015  0.888  0.901\n",
       "OR   0.007 -0.009  0.005 -0.011  0.017  1.000 -0.018 -0.012  0.020  0.047\n",
       "GA  -0.003  0.004 -0.002  0.005 -0.004 -0.018  1.000  0.290  0.274  0.205\n",
       "GAD  0.024 -0.025 -0.031 -0.010  0.015 -0.012  0.290  1.000  0.116  0.075\n",
       "HL   0.624 -0.658  0.453 -0.863  0.888  0.020  0.274  0.116  1.000  0.976\n",
       "CL   0.644 -0.681  0.424 -0.872  0.901  0.047  0.205  0.075  0.976  1.000"
      ]
     },
     "execution_count": 6,
     "metadata": {},
     "output_type": "execute_result"
    }
   ],
   "source": [
    "train_df.corr().round(3)"
   ]
  },
  {
   "cell_type": "markdown",
   "metadata": {},
   "source": [
    "### no missing values in the dataset."
   ]
  },
  {
   "cell_type": "code",
   "execution_count": 7,
   "metadata": {},
   "outputs": [
    {
     "data": {
      "text/plain": [
       "RC     0\n",
       "SA     0\n",
       "WA     0\n",
       "RA     0\n",
       "OH     0\n",
       "OR     0\n",
       "GA     0\n",
       "GAD    0\n",
       "HL     0\n",
       "CL     0\n",
       "dtype: int64"
      ]
     },
     "execution_count": 7,
     "metadata": {},
     "output_type": "execute_result"
    }
   ],
   "source": [
    "train_df.isnull().sum()"
   ]
  },
  {
   "cell_type": "code",
   "execution_count": 8,
   "metadata": {
    "collapsed": true
   },
   "outputs": [],
   "source": [
    "def NUM_EDA_graph(variable):\n",
    "    print('EDA Analysis for variable: {}'.format(variable))\n",
    "    fig=plt.figure(figsize=(10,4))\n",
    "    \n",
    "    ax1=fig.add_subplot(131)\n",
    "    train_df[variable].plot.box()\n",
    "    ax1.set_title('Box Plot')\n",
    "    ax1.set_ylabel('Value')\n",
    "\n",
    "    ax2=fig.add_subplot(132)\n",
    "    train_df[variable].plot.hist(bins=10)\n",
    "    ax2.set_xlabel(variable)\n",
    "    ax2.set_ylabel('Count')\n",
    "    ax2.set_title('Histogram')\n",
    "    \n",
    "    ax3=fig.add_subplot(133)\n",
    "    train_df.plot.scatter(x=variable, y='HL', ax=ax3)\n",
    "    ax3.set_xlabel(variable)\n",
    "    ax3.set_ylabel('HL')\n",
    "    ax3.set_title('Scatter')\n",
    "    \n",
    "#     fig.suptitle('Two Charts')\n",
    "    plt.tight_layout()\n",
    "    plt.show()"
   ]
  },
  {
   "cell_type": "code",
   "execution_count": 9,
   "metadata": {},
   "outputs": [
    {
     "name": "stdout",
     "output_type": "stream",
     "text": [
      "EDA Analysis for variable: RC\n"
     ]
    },
    {
     "data": {
      "image/png": "[encoded data removed]",
      "text/plain": [
       "<matplotlib.figure.Figure at 0xcdcd2b0>"
      ]
     },
     "metadata": {},
     "output_type": "display_data"
    },
    {
     "name": "stdout",
     "output_type": "stream",
     "text": [
      "EDA Analysis for variable: SA\n"
     ]
    },
    {
     "data": {
      "image/png": "[encoded data removed]",
      "text/plain": [
       "<matplotlib.figure.Figure at 0xcdcdf28>"
      ]
     },
     "metadata": {},
     "output_type": "display_data"
    },
    {
     "name": "stdout",
     "output_type": "stream",
     "text": [
      "EDA Analysis for variable: WA\n"
     ]
    },
    {
     "data": {
      "image/png": "[encoded data removed]",
      "text/plain": [
       "<matplotlib.figure.Figure at 0xd7719e8>"
      ]
     },
     "metadata": {},
     "output_type": "display_data"
    },
    {
     "name": "stdout",
     "output_type": "stream",
     "text": [
      "EDA Analysis for variable: RA\n"
     ]
    },
    {
     "data": {
      "image/png": "[encoded data removed]",
      "text/plain": [
       "<matplotlib.figure.Figure at 0xdf82240>"
      ]
     },
     "metadata": {},
     "output_type": "display_data"
    },
    {
     "name": "stdout",
     "output_type": "stream",
     "text": [
      "EDA Analysis for variable: OH\n"
     ]
    },
    {
     "data": {
      "image/png": "[encoded data removed]",
      "text/plain": [
       "<matplotlib.figure.Figure at 0xe4c6550>"
      ]
     },
     "metadata": {},
     "output_type": "display_data"
    },
    {
     "name": "stdout",
     "output_type": "stream",
     "text": [
      "EDA Analysis for variable: OR\n"
     ]
    },
    {
     "data": {
      "image/png": "[encoded data removed]",
      "text/plain": [
       "<matplotlib.figure.Figure at 0xe019978>"
      ]
     },
     "metadata": {},
     "output_type": "display_data"
    },
    {
     "name": "stdout",
     "output_type": "stream",
     "text": [
      "EDA Analysis for variable: GA\n"
     ]
    },
    {
     "data": {
      "image/png": "[encoded data removed]",
      "text/plain": [
       "<matplotlib.figure.Figure at 0xdf8cdd8>"
      ]
     },
     "metadata": {},
     "output_type": "display_data"
    },
    {
     "name": "stdout",
     "output_type": "stream",
     "text": [
      "EDA Analysis for variable: GAD\n"
     ]
    },
    {
     "data": {
      "image/png": "[encoded data removed]",
      "text/plain": [
       "<matplotlib.figure.Figure at 0xed0d780>"
      ]
     },
     "metadata": {},
     "output_type": "display_data"
    }
   ],
   "source": [
    "lst=['RC','SA','WA','RA','OH','OR','GA','GAD']\n",
    "for i in lst:\n",
    "    NUM_EDA_graph(i)"
   ]
  },
  {
   "cell_type": "markdown",
   "metadata": {},
   "source": [
    "### A few variables may be coded as categorical variable, OH/OR/GA/GAD."
   ]
  },
  {
   "cell_type": "code",
   "execution_count": 10,
   "metadata": {},
   "outputs": [
    {
     "name": "stdout",
     "output_type": "stream",
     "text": [
      "\n",
      "Unique values for RC\n",
      "[ 0.69  0.76  0.74  0.98  0.66  0.71  0.82  0.79  0.64  0.62  0.9   0.86]\n",
      "\n",
      "Unique values for SA\n",
      "[ 735.   661.5  686.   514.5  759.5  710.5  612.5  637.   784.   808.5\n",
      "  563.5  588. ]\n",
      "\n",
      "Unique values for WA\n",
      "[ 294.   416.5  245.   318.5  269.5  343.   367.5]\n",
      "\n",
      "Unique values for RA\n",
      "[ 220.5   122.5   110.25  147.  ]\n",
      "\n",
      "Unique values for OH\n",
      "[ 3.5  7. ]\n",
      "\n",
      "Unique values for OR\n",
      "[4 2 3 5]\n",
      "\n",
      "Unique values for GA\n",
      "[ 0.4   0.25  0.1   0.  ]\n",
      "\n",
      "Unique values for GAD\n",
      "[4 3 5 1 2 0]\n"
     ]
    }
   ],
   "source": [
    "for i in lst:\n",
    "    print('\\nUnique values for {}'.format(i))\n",
    "    print(train_df[i].unique())"
   ]
  },
  {
   "cell_type": "markdown",
   "metadata": {},
   "source": [
    "## Initial Model"
   ]
  },
  {
   "cell_type": "code",
   "execution_count": 17,
   "metadata": {
    "collapsed": true
   },
   "outputs": [],
   "source": [
    "X = train_df.drop(['HL','CL'], axis=1)\n",
    "X = sm.add_constant(X)\n",
    "y=train_df.HL"
   ]
  },
  {
   "cell_type": "code",
   "execution_count": 20,
   "metadata": {},
   "outputs": [
    {
     "data": {
      "text/html": [
       "<div>\n",
       "<style>\n",
       "    .dataframe thead tr:only-child th {\n",
       "        text-align: right;\n",
       "    }\n",
       "\n",
       "    .dataframe thead th {\n",
       "        text-align: left;\n",
       "    }\n",
       "\n",
       "    .dataframe tbody tr th {\n",
       "        vertical-align: top;\n",
       "    }\n",
       "</style>\n",
       "<table border=\"1\" class=\"dataframe\">\n",
       "  <thead>\n",
       "    <tr style=\"text-align: right;\">\n",
       "      <th></th>\n",
       "      <th>const</th>\n",
       "      <th>RC</th>\n",
       "      <th>SA</th>\n",
       "      <th>WA</th>\n",
       "      <th>RA</th>\n",
       "      <th>OH</th>\n",
       "      <th>OR</th>\n",
       "      <th>GA</th>\n",
       "      <th>GAD</th>\n",
       "    </tr>\n",
       "  </thead>\n",
       "  <tbody>\n",
       "    <tr>\n",
       "      <th>706</th>\n",
       "      <td>1.0</td>\n",
       "      <td>0.69</td>\n",
       "      <td>735.0</td>\n",
       "      <td>294.0</td>\n",
       "      <td>220.50</td>\n",
       "      <td>3.5</td>\n",
       "      <td>4</td>\n",
       "      <td>0.40</td>\n",
       "      <td>4</td>\n",
       "    </tr>\n",
       "    <tr>\n",
       "      <th>644</th>\n",
       "      <td>1.0</td>\n",
       "      <td>0.76</td>\n",
       "      <td>661.5</td>\n",
       "      <td>416.5</td>\n",
       "      <td>122.50</td>\n",
       "      <td>7.0</td>\n",
       "      <td>2</td>\n",
       "      <td>0.40</td>\n",
       "      <td>3</td>\n",
       "    </tr>\n",
       "    <tr>\n",
       "      <th>410</th>\n",
       "      <td>1.0</td>\n",
       "      <td>0.74</td>\n",
       "      <td>686.0</td>\n",
       "      <td>245.0</td>\n",
       "      <td>220.50</td>\n",
       "      <td>3.5</td>\n",
       "      <td>4</td>\n",
       "      <td>0.25</td>\n",
       "      <td>3</td>\n",
       "    </tr>\n",
       "    <tr>\n",
       "      <th>722</th>\n",
       "      <td>1.0</td>\n",
       "      <td>0.98</td>\n",
       "      <td>514.5</td>\n",
       "      <td>294.0</td>\n",
       "      <td>110.25</td>\n",
       "      <td>7.0</td>\n",
       "      <td>4</td>\n",
       "      <td>0.40</td>\n",
       "      <td>5</td>\n",
       "    </tr>\n",
       "    <tr>\n",
       "      <th>85</th>\n",
       "      <td>1.0</td>\n",
       "      <td>0.66</td>\n",
       "      <td>759.5</td>\n",
       "      <td>318.5</td>\n",
       "      <td>220.50</td>\n",
       "      <td>3.5</td>\n",
       "      <td>3</td>\n",
       "      <td>0.10</td>\n",
       "      <td>1</td>\n",
       "    </tr>\n",
       "    <tr>\n",
       "      <th>...</th>\n",
       "      <td>...</td>\n",
       "      <td>...</td>\n",
       "      <td>...</td>\n",
       "      <td>...</td>\n",
       "      <td>...</td>\n",
       "      <td>...</td>\n",
       "      <td>...</td>\n",
       "      <td>...</td>\n",
       "      <td>...</td>\n",
       "    </tr>\n",
       "    <tr>\n",
       "      <th>491</th>\n",
       "      <td>1.0</td>\n",
       "      <td>0.86</td>\n",
       "      <td>588.0</td>\n",
       "      <td>294.0</td>\n",
       "      <td>147.00</td>\n",
       "      <td>7.0</td>\n",
       "      <td>5</td>\n",
       "      <td>0.25</td>\n",
       "      <td>5</td>\n",
       "    </tr>\n",
       "    <tr>\n",
       "      <th>86</th>\n",
       "      <td>1.0</td>\n",
       "      <td>0.66</td>\n",
       "      <td>759.5</td>\n",
       "      <td>318.5</td>\n",
       "      <td>220.50</td>\n",
       "      <td>3.5</td>\n",
       "      <td>4</td>\n",
       "      <td>0.10</td>\n",
       "      <td>1</td>\n",
       "    </tr>\n",
       "    <tr>\n",
       "      <th>727</th>\n",
       "      <td>1.0</td>\n",
       "      <td>0.90</td>\n",
       "      <td>563.5</td>\n",
       "      <td>318.5</td>\n",
       "      <td>122.50</td>\n",
       "      <td>7.0</td>\n",
       "      <td>5</td>\n",
       "      <td>0.40</td>\n",
       "      <td>5</td>\n",
       "    </tr>\n",
       "    <tr>\n",
       "      <th>253</th>\n",
       "      <td>1.0</td>\n",
       "      <td>0.82</td>\n",
       "      <td>612.5</td>\n",
       "      <td>318.5</td>\n",
       "      <td>147.00</td>\n",
       "      <td>7.0</td>\n",
       "      <td>3</td>\n",
       "      <td>0.10</td>\n",
       "      <td>5</td>\n",
       "    </tr>\n",
       "    <tr>\n",
       "      <th>387</th>\n",
       "      <td>1.0</td>\n",
       "      <td>0.98</td>\n",
       "      <td>514.5</td>\n",
       "      <td>294.0</td>\n",
       "      <td>110.25</td>\n",
       "      <td>7.0</td>\n",
       "      <td>5</td>\n",
       "      <td>0.25</td>\n",
       "      <td>3</td>\n",
       "    </tr>\n",
       "  </tbody>\n",
       "</table>\n",
       "<p>537 rows × 9 columns</p>\n",
       "</div>"
      ],
      "text/plain": [
       "     const    RC     SA     WA      RA   OH  OR    GA  GAD\n",
       "706    1.0  0.69  735.0  294.0  220.50  3.5   4  0.40    4\n",
       "644    1.0  0.76  661.5  416.5  122.50  7.0   2  0.40    3\n",
       "410    1.0  0.74  686.0  245.0  220.50  3.5   4  0.25    3\n",
       "722    1.0  0.98  514.5  294.0  110.25  7.0   4  0.40    5\n",
       "85     1.0  0.66  759.5  318.5  220.50  3.5   3  0.10    1\n",
       "..     ...   ...    ...    ...     ...  ...  ..   ...  ...\n",
       "491    1.0  0.86  588.0  294.0  147.00  7.0   5  0.25    5\n",
       "86     1.0  0.66  759.5  318.5  220.50  3.5   4  0.10    1\n",
       "727    1.0  0.90  563.5  318.5  122.50  7.0   5  0.40    5\n",
       "253    1.0  0.82  612.5  318.5  147.00  7.0   3  0.10    5\n",
       "387    1.0  0.98  514.5  294.0  110.25  7.0   5  0.25    3\n",
       "\n",
       "[537 rows x 9 columns]"
      ]
     },
     "execution_count": 20,
     "metadata": {},
     "output_type": "execute_result"
    }
   ],
   "source": [
    "X"
   ]
  },
  {
   "cell_type": "markdown",
   "metadata": {},
   "source": [
    "# Model_baseline has all variables"
   ]
  },
  {
   "cell_type": "code",
   "execution_count": 25,
   "metadata": {},
   "outputs": [
    {
     "data": {
      "text/html": [
       "<table class=\"simpletable\">\n",
       "<caption>OLS Regression Results</caption>\n",
       "<tr>\n",
       "  <th>Dep. Variable:</th>           <td>HL</td>        <th>  R-squared:         </th> <td>   0.919</td> \n",
       "</tr>\n",
       "<tr>\n",
       "  <th>Model:</th>                   <td>OLS</td>       <th>  Adj. R-squared:    </th> <td>   0.918</td> \n",
       "</tr>\n",
       "<tr>\n",
       "  <th>Method:</th>             <td>Least Squares</td>  <th>  F-statistic:       </th> <td>   855.2</td> \n",
       "</tr>\n",
       "<tr>\n",
       "  <th>Date:</th>             <td>Mon, 21 Aug 2017</td> <th>  Prob (F-statistic):</th> <td>1.04e-283</td>\n",
       "</tr>\n",
       "<tr>\n",
       "  <th>Time:</th>                 <td>20:00:11</td>     <th>  Log-Likelihood:    </th> <td> -1325.8</td> \n",
       "</tr>\n",
       "<tr>\n",
       "  <th>No. Observations:</th>      <td>   537</td>      <th>  AIC:               </th> <td>   2668.</td> \n",
       "</tr>\n",
       "<tr>\n",
       "  <th>Df Residuals:</th>          <td>   529</td>      <th>  BIC:               </th> <td>   2702.</td> \n",
       "</tr>\n",
       "<tr>\n",
       "  <th>Df Model:</th>              <td>     7</td>      <th>                     </th>     <td> </td>    \n",
       "</tr>\n",
       "<tr>\n",
       "  <th>Covariance Type:</th>      <td>nonrobust</td>    <th>                     </th>     <td> </td>    \n",
       "</tr>\n",
       "</table>\n",
       "<table class=\"simpletable\">\n",
       "<tr>\n",
       "    <td></td>       <th>coef</th>     <th>std err</th>      <th>t</th>      <th>P>|t|</th>  <th>[0.025</th>    <th>0.975]</th>  \n",
       "</tr>\n",
       "<tr>\n",
       "  <th>const</th> <td>   88.6757</td> <td>   22.053</td> <td>    4.021</td> <td> 0.000</td> <td>   45.354</td> <td>  131.998</td>\n",
       "</tr>\n",
       "<tr>\n",
       "  <th>RC</th>    <td>  -65.8596</td> <td>   11.925</td> <td>   -5.523</td> <td> 0.000</td> <td>  -89.286</td> <td>  -42.433</td>\n",
       "</tr>\n",
       "<tr>\n",
       "  <th>SA</th>    <td>   -0.0672</td> <td>    0.016</td> <td>   -4.322</td> <td> 0.000</td> <td>   -0.098</td> <td>   -0.037</td>\n",
       "</tr>\n",
       "<tr>\n",
       "  <th>WA</th>    <td>    0.0387</td> <td>    0.005</td> <td>    8.596</td> <td> 0.000</td> <td>    0.030</td> <td>    0.048</td>\n",
       "</tr>\n",
       "<tr>\n",
       "  <th>RA</th>    <td>   -0.0530</td> <td>    0.009</td> <td>   -6.068</td> <td> 0.000</td> <td>   -0.070</td> <td>   -0.036</td>\n",
       "</tr>\n",
       "<tr>\n",
       "  <th>OH</th>    <td>    3.8899</td> <td>    0.396</td> <td>    9.818</td> <td> 0.000</td> <td>    3.112</td> <td>    4.668</td>\n",
       "</tr>\n",
       "<tr>\n",
       "  <th>OR</th>    <td>    0.0879</td> <td>    0.112</td> <td>    0.788</td> <td> 0.431</td> <td>   -0.131</td> <td>    0.307</td>\n",
       "</tr>\n",
       "<tr>\n",
       "  <th>GA</th>    <td>   19.9389</td> <td>    0.960</td> <td>   20.767</td> <td> 0.000</td> <td>   18.053</td> <td>   21.825</td>\n",
       "</tr>\n",
       "<tr>\n",
       "  <th>GAD</th>   <td>    0.2123</td> <td>    0.082</td> <td>    2.574</td> <td> 0.010</td> <td>    0.050</td> <td>    0.374</td>\n",
       "</tr>\n",
       "</table>\n",
       "<table class=\"simpletable\">\n",
       "<tr>\n",
       "  <th>Omnibus:</th>       <td>16.865</td> <th>  Durbin-Watson:     </th> <td>   1.975</td>\n",
       "</tr>\n",
       "<tr>\n",
       "  <th>Prob(Omnibus):</th> <td> 0.000</td> <th>  Jarque-Bera (JB):  </th> <td>  35.893</td>\n",
       "</tr>\n",
       "<tr>\n",
       "  <th>Skew:</th>          <td> 0.079</td> <th>  Prob(JB):          </th> <td>1.61e-08</td>\n",
       "</tr>\n",
       "<tr>\n",
       "  <th>Kurtosis:</th>      <td> 4.257</td> <th>  Cond. No.          </th> <td>2.45e+16</td>\n",
       "</tr>\n",
       "</table>"
      ],
      "text/plain": [
       "<class 'statsmodels.iolib.summary.Summary'>\n",
       "\"\"\"\n",
       "                            OLS Regression Results                            \n",
       "==============================================================================\n",
       "Dep. Variable:                     HL   R-squared:                       0.919\n",
       "Model:                            OLS   Adj. R-squared:                  0.918\n",
       "Method:                 Least Squares   F-statistic:                     855.2\n",
       "Date:                Mon, 21 Aug 2017   Prob (F-statistic):          1.04e-283\n",
       "Time:                        20:00:11   Log-Likelihood:                -1325.8\n",
       "No. Observations:                 537   AIC:                             2668.\n",
       "Df Residuals:                     529   BIC:                             2702.\n",
       "Df Model:                           7                                         \n",
       "Covariance Type:            nonrobust                                         \n",
       "==============================================================================\n",
       "                 coef    std err          t      P>|t|      [0.025      0.975]\n",
       "------------------------------------------------------------------------------\n",
       "const         88.6757     22.053      4.021      0.000      45.354     131.998\n",
       "RC           -65.8596     11.925     -5.523      0.000     -89.286     -42.433\n",
       "SA            -0.0672      0.016     -4.322      0.000      -0.098      -0.037\n",
       "WA             0.0387      0.005      8.596      0.000       0.030       0.048\n",
       "RA            -0.0530      0.009     -6.068      0.000      -0.070      -0.036\n",
       "OH             3.8899      0.396      9.818      0.000       3.112       4.668\n",
       "OR             0.0879      0.112      0.788      0.431      -0.131       0.307\n",
       "GA            19.9389      0.960     20.767      0.000      18.053      21.825\n",
       "GAD            0.2123      0.082      2.574      0.010       0.050       0.374\n",
       "==============================================================================\n",
       "Omnibus:                       16.865   Durbin-Watson:                   1.975\n",
       "Prob(Omnibus):                  0.000   Jarque-Bera (JB):               35.893\n",
       "Skew:                           0.079   Prob(JB):                     1.61e-08\n",
       "Kurtosis:                       4.257   Cond. No.                     2.45e+16\n",
       "==============================================================================\n",
       "\n",
       "Warnings:\n",
       "[1] Standard Errors assume that the covariance matrix of the errors is correctly specified.\n",
       "[2] The smallest eigenvalue is 5.3e-25. This might indicate that there are\n",
       "strong multicollinearity problems or that the design matrix is singular.\n",
       "\"\"\""
      ]
     },
     "execution_count": 25,
     "metadata": {},
     "output_type": "execute_result"
    }
   ],
   "source": [
    "model_baseline = sm.OLS(y,X).fit()\n",
    "\n",
    "model_baseline.summary()"
   ]
  },
  {
   "cell_type": "markdown",
   "metadata": {},
   "source": [
    "## dropping OR which was non significant in the baseline model"
   ]
  },
  {
   "cell_type": "code",
   "execution_count": 26,
   "metadata": {},
   "outputs": [
    {
     "data": {
      "text/html": [
       "<table class=\"simpletable\">\n",
       "<caption>OLS Regression Results</caption>\n",
       "<tr>\n",
       "  <th>Dep. Variable:</th>           <td>HL</td>        <th>  R-squared:         </th> <td>   0.919</td> \n",
       "</tr>\n",
       "<tr>\n",
       "  <th>Model:</th>                   <td>OLS</td>       <th>  Adj. R-squared:    </th> <td>   0.918</td> \n",
       "</tr>\n",
       "<tr>\n",
       "  <th>Method:</th>             <td>Least Squares</td>  <th>  F-statistic:       </th> <td>   998.3</td> \n",
       "</tr>\n",
       "<tr>\n",
       "  <th>Date:</th>             <td>Mon, 21 Aug 2017</td> <th>  Prob (F-statistic):</th> <td>4.31e-285</td>\n",
       "</tr>\n",
       "<tr>\n",
       "  <th>Time:</th>                 <td>20:05:08</td>     <th>  Log-Likelihood:    </th> <td> -1326.1</td> \n",
       "</tr>\n",
       "<tr>\n",
       "  <th>No. Observations:</th>      <td>   537</td>      <th>  AIC:               </th> <td>   2666.</td> \n",
       "</tr>\n",
       "<tr>\n",
       "  <th>Df Residuals:</th>          <td>   530</td>      <th>  BIC:               </th> <td>   2696.</td> \n",
       "</tr>\n",
       "<tr>\n",
       "  <th>Df Model:</th>              <td>     6</td>      <th>                     </th>     <td> </td>    \n",
       "</tr>\n",
       "<tr>\n",
       "  <th>Covariance Type:</th>      <td>nonrobust</td>    <th>                     </th>     <td> </td>    \n",
       "</tr>\n",
       "</table>\n",
       "<table class=\"simpletable\">\n",
       "<tr>\n",
       "    <td></td>       <th>coef</th>     <th>std err</th>      <th>t</th>      <th>P>|t|</th>  <th>[0.025</th>    <th>0.975]</th>  \n",
       "</tr>\n",
       "<tr>\n",
       "  <th>const</th> <td>   88.7481</td> <td>   22.045</td> <td>    4.026</td> <td> 0.000</td> <td>   45.442</td> <td>  132.054</td>\n",
       "</tr>\n",
       "<tr>\n",
       "  <th>RC</th>    <td>  -65.7739</td> <td>   11.921</td> <td>   -5.518</td> <td> 0.000</td> <td>  -89.191</td> <td>  -42.357</td>\n",
       "</tr>\n",
       "<tr>\n",
       "  <th>SA</th>    <td>   -0.0670</td> <td>    0.016</td> <td>   -4.312</td> <td> 0.000</td> <td>   -0.098</td> <td>   -0.036</td>\n",
       "</tr>\n",
       "<tr>\n",
       "  <th>WA</th>    <td>    0.0387</td> <td>    0.005</td> <td>    8.583</td> <td> 0.000</td> <td>    0.030</td> <td>    0.047</td>\n",
       "</tr>\n",
       "<tr>\n",
       "  <th>RA</th>    <td>   -0.0528</td> <td>    0.009</td> <td>   -6.056</td> <td> 0.000</td> <td>   -0.070</td> <td>   -0.036</td>\n",
       "</tr>\n",
       "<tr>\n",
       "  <th>OH</th>    <td>    3.8989</td> <td>    0.396</td> <td>    9.848</td> <td> 0.000</td> <td>    3.121</td> <td>    4.677</td>\n",
       "</tr>\n",
       "<tr>\n",
       "  <th>GA</th>    <td>   19.9277</td> <td>    0.960</td> <td>   20.765</td> <td> 0.000</td> <td>   18.042</td> <td>   21.813</td>\n",
       "</tr>\n",
       "<tr>\n",
       "  <th>GAD</th>   <td>    0.2118</td> <td>    0.082</td> <td>    2.569</td> <td> 0.010</td> <td>    0.050</td> <td>    0.374</td>\n",
       "</tr>\n",
       "</table>\n",
       "<table class=\"simpletable\">\n",
       "<tr>\n",
       "  <th>Omnibus:</th>       <td>17.136</td> <th>  Durbin-Watson:     </th> <td>   1.976</td>\n",
       "</tr>\n",
       "<tr>\n",
       "  <th>Prob(Omnibus):</th> <td> 0.000</td> <th>  Jarque-Bera (JB):  </th> <td>  36.724</td>\n",
       "</tr>\n",
       "<tr>\n",
       "  <th>Skew:</th>          <td> 0.081</td> <th>  Prob(JB):          </th> <td>1.06e-08</td>\n",
       "</tr>\n",
       "<tr>\n",
       "  <th>Kurtosis:</th>      <td> 4.271</td> <th>  Cond. No.          </th> <td>2.45e+16</td>\n",
       "</tr>\n",
       "</table>"
      ],
      "text/plain": [
       "<class 'statsmodels.iolib.summary.Summary'>\n",
       "\"\"\"\n",
       "                            OLS Regression Results                            \n",
       "==============================================================================\n",
       "Dep. Variable:                     HL   R-squared:                       0.919\n",
       "Model:                            OLS   Adj. R-squared:                  0.918\n",
       "Method:                 Least Squares   F-statistic:                     998.3\n",
       "Date:                Mon, 21 Aug 2017   Prob (F-statistic):          4.31e-285\n",
       "Time:                        20:05:08   Log-Likelihood:                -1326.1\n",
       "No. Observations:                 537   AIC:                             2666.\n",
       "Df Residuals:                     530   BIC:                             2696.\n",
       "Df Model:                           6                                         \n",
       "Covariance Type:            nonrobust                                         \n",
       "==============================================================================\n",
       "                 coef    std err          t      P>|t|      [0.025      0.975]\n",
       "------------------------------------------------------------------------------\n",
       "const         88.7481     22.045      4.026      0.000      45.442     132.054\n",
       "RC           -65.7739     11.921     -5.518      0.000     -89.191     -42.357\n",
       "SA            -0.0670      0.016     -4.312      0.000      -0.098      -0.036\n",
       "WA             0.0387      0.005      8.583      0.000       0.030       0.047\n",
       "RA            -0.0528      0.009     -6.056      0.000      -0.070      -0.036\n",
       "OH             3.8989      0.396      9.848      0.000       3.121       4.677\n",
       "GA            19.9277      0.960     20.765      0.000      18.042      21.813\n",
       "GAD            0.2118      0.082      2.569      0.010       0.050       0.374\n",
       "==============================================================================\n",
       "Omnibus:                       17.136   Durbin-Watson:                   1.976\n",
       "Prob(Omnibus):                  0.000   Jarque-Bera (JB):               36.724\n",
       "Skew:                           0.081   Prob(JB):                     1.06e-08\n",
       "Kurtosis:                       4.271   Cond. No.                     2.45e+16\n",
       "==============================================================================\n",
       "\n",
       "Warnings:\n",
       "[1] Standard Errors assume that the covariance matrix of the errors is correctly specified.\n",
       "[2] The smallest eigenvalue is 5.3e-25. This might indicate that there are\n",
       "strong multicollinearity problems or that the design matrix is singular.\n",
       "\"\"\""
      ]
     },
     "execution_count": 26,
     "metadata": {},
     "output_type": "execute_result"
    }
   ],
   "source": [
    "X = train_df.drop(['HL','CL','OR'], axis=1)\n",
    "X = sm.add_constant(X)\n",
    "y=train_df.HL\n",
    "model1 = sm.OLS(y,X).fit()\n",
    "model1.summary()"
   ]
  },
  {
   "cell_type": "markdown",
   "metadata": {},
   "source": [
    " ## lasso"
   ]
  },
  {
   "cell_type": "code",
   "execution_count": 47,
   "metadata": {},
   "outputs": [
    {
     "data": {
      "text/plain": [
       "Index([u'const', u'RC', u'SA', u'WA', u'RA', u'OH', u'GA', u'GAD'], dtype='object')"
      ]
     },
     "execution_count": 47,
     "metadata": {},
     "output_type": "execute_result"
    }
   ],
   "source": [
    "X.columns"
   ]
  },
  {
   "cell_type": "code",
   "execution_count": 48,
   "metadata": {},
   "outputs": [
    {
     "name": "stdout",
     "output_type": "stream",
     "text": [
      "alpha=1\n",
      "['0.00', '0.00', '-0.00', '0.00', '-0.00', '0.00', '0.00', '0.00']\n",
      "alpha=0.5\n",
      "['0.00', '0.00', '-0.00', '0.00', '-0.00', '0.00', '0.00', '0.00']\n",
      "alpha=0.1\n",
      "['0.00', '0.00', '-0.00', '0.01', '-0.00', '3.70', '3.39', '0.00']\n",
      "alpha=0.01\n",
      "['0.00', '-0.00', '-0.00', '0.05', '-0.00', '4.64', '18.57', '0.09']\n",
      "alpha=0.001\n",
      "['0.00', '-31.63', '-0.00', '0.01', '-0.08', '4.60', '19.78', '0.20']\n",
      "alpha=1e-05\n",
      "['0.00', '-65.38', '-0.09', '0.06', '-0.01', '3.91', '19.93', '0.21']\n",
      "alpha=1e-07\n",
      "['0.00', '-65.73', '-0.09', '0.06', '-0.01', '3.90', '19.93', '0.21']\n",
      "alpha=1e-09\n",
      "['0.00', '-65.74', '-0.09', '0.06', '-0.01', '3.90', '19.93', '0.21']\n",
      "alpha=1e-11\n",
      "['0.00', '-65.74', '-0.09', '0.06', '-0.01', '3.90', '19.93', '0.21']\n"
     ]
    }
   ],
   "source": [
    "alphas = [1, .5, 1e-1, 1e-2, 1e-3, 1e-5, 1e-7, 1e-9, 1e-11]\n",
    "for i in alphas:\n",
    "    model_lasso=linear_model.Lasso(alpha=i, normalize=True).fit(X,y)\n",
    "    print('alpha={}'.format(i))\n",
    "    print(map(lambda coef: '{:2.2f}'.format(coef), model_lasso.coef_))"
   ]
  },
  {
   "cell_type": "code",
   "execution_count": 60,
   "metadata": {},
   "outputs": [
    {
     "data": {
      "text/plain": [
       "GridSearchCV(cv=KFold(n_splits=5, random_state=12345, shuffle=True),\n",
       "       error_score='raise',\n",
       "       estimator=Lasso(alpha=1.0, copy_X=True, fit_intercept=True, max_iter=1000,\n",
       "   normalize=False, positive=False, precompute=False, random_state=None,\n",
       "   selection='cyclic', tol=0.0001, warm_start=False),\n",
       "       fit_params={}, iid=True, n_jobs=1,\n",
       "       param_grid={'normalize': [True], 'alpha': [1, 0.5, 0.4, 0.3, 0.2, 0.1, 0.1, 0.01, 0.001, 0.0001, 1e-05]},\n",
       "       pre_dispatch='2*n_jobs', refit=True, return_train_score=True,\n",
       "       scoring=None, verbose=0)"
      ]
     },
     "execution_count": 60,
     "metadata": {},
     "output_type": "execute_result"
    }
   ],
   "source": [
    "cv = 5 # 5-fold CV\n",
    "alpha = [1, .5, 0.4, 0.3, 0.2, 0.1, 1e-1, 1e-2, 1e-3, 1e-4, 1e-5]\n",
    "\n",
    "gs = model_selection.GridSearchCV(\n",
    "    estimator = linear_model.Lasso(),\n",
    "    param_grid = {'alpha': alpha, 'normalize': [True] },\n",
    "    cv = model_selection.KFold(n_splits = cv, shuffle = True, random_state = 12345)\n",
    ")\n",
    "\n",
    "gs.fit(X, y)"
   ]
  },
  {
   "cell_type": "code",
   "execution_count": 61,
   "metadata": {},
   "outputs": [
    {
     "data": {
      "text/plain": [
       "{'mean_fit_time': array([ 0.00299997,  0.00300002,  0.00320001,  0.        ,  0.00300002,\n",
       "         0.        ,  0.        ,  0.        ,  0.00620003,  0.00300002,\n",
       "         0.00320001]),\n",
       " 'mean_score_time': array([ 0.        ,  0.        ,  0.        ,  0.        ,  0.        ,\n",
       "         0.        ,  0.        ,  0.00320001,  0.        ,  0.        ,  0.        ]),\n",
       " 'mean_test_score': array([-0.0083956 , -0.0083956 ,  0.09793909,  0.3994428 ,  0.61474299,\n",
       "         0.79964949,  0.79964949,  0.91036672,  0.91545481,  0.91663271,\n",
       "         0.91665492]),\n",
       " 'mean_train_score': array([ 0.        ,  0.        ,  0.10540781,  0.40457048,  0.6182581 ,\n",
       "         0.80248277,  0.80248277,  0.91232119,  0.91778762,  0.91883561,\n",
       "         0.91884674]),\n",
       " 'param_alpha': masked_array(data = [1 0.5 0.4 0.3 0.2 0.1 0.1 0.01 0.001 0.0001 1e-05],\n",
       "              mask = [False False False False False False False False False False False],\n",
       "        fill_value = ?),\n",
       " 'param_normalize': masked_array(data = [True True True True True True True True True True True],\n",
       "              mask = [False False False False False False False False False False False],\n",
       "        fill_value = ?),\n",
       " 'params': ({'alpha': 1, 'normalize': True},\n",
       "  {'alpha': 0.5, 'normalize': True},\n",
       "  {'alpha': 0.4, 'normalize': True},\n",
       "  {'alpha': 0.3, 'normalize': True},\n",
       "  {'alpha': 0.2, 'normalize': True},\n",
       "  {'alpha': 0.1, 'normalize': True},\n",
       "  {'alpha': 0.1, 'normalize': True},\n",
       "  {'alpha': 0.01, 'normalize': True},\n",
       "  {'alpha': 0.001, 'normalize': True},\n",
       "  {'alpha': 0.0001, 'normalize': True},\n",
       "  {'alpha': 1e-05, 'normalize': True}),\n",
       " 'rank_test_score': array([10, 10,  9,  8,  7,  5,  5,  4,  3,  2,  1]),\n",
       " 'split0_test_score': array([-0.01044544, -0.01044544,  0.10306292,  0.40502043,  0.61869161,\n",
       "         0.80281471,  0.80281471,  0.91369754,  0.92062831,  0.92145823,\n",
       "         0.92143945]),\n",
       " 'split0_train_score': array([ 0.        ,  0.        ,  0.1113029 ,  0.40848601,  0.62075966,\n",
       "         0.80276045,  0.80276045,  0.91124734,  0.91666492,  0.91769234,\n",
       "         0.91770309]),\n",
       " 'split1_test_score': array([-0.01414013, -0.01414013,  0.10001665,  0.41340277,  0.63649545,\n",
       "         0.8203693 ,  0.8203693 ,  0.91168436,  0.91251419,  0.91359544,\n",
       "         0.91361265]),\n",
       " 'split1_train_score': array([ 0.        ,  0.        ,  0.10749496,  0.40298405,  0.61404768,\n",
       "         0.8041079 ,  0.8041079 ,  0.91248608,  0.91845022,  0.91945147,\n",
       "         0.91946225]),\n",
       " 'split2_test_score': array([-0.0112495 , -0.0112495 ,  0.0842197 ,  0.38843745,  0.60927146,\n",
       "         0.80471179,  0.80471179,  0.92724139,  0.93140283,  0.93266395,\n",
       "         0.93270356]),\n",
       " 'split2_train_score': array([ 0.        ,  0.        ,  0.09535078,  0.39729654,  0.61297208,\n",
       "         0.79525372,  0.79525372,  0.90823004,  0.91373419,  0.91476617,\n",
       "         0.9147772 ]),\n",
       " 'split3_test_score': array([-0.00249941, -0.00249941,  0.10663736,  0.39917131,  0.60577745,\n",
       "         0.78356132,  0.78356132,  0.89253514,  0.89725203,  0.8982789 ,\n",
       "         0.89828815]),\n",
       " 'split3_train_score': array([ 0.        ,  0.        ,  0.11118801,  0.41054162,  0.62436562,\n",
       "         0.80772916,  0.80772916,  0.91685653,  0.92247423,  0.92353285,\n",
       "         0.92354408]),\n",
       " 'split4_test_score': array([-0.00357069, -0.00357069,  0.09569151,  0.39099944,  0.60323876,\n",
       "         0.7865671 ,  0.7865671 ,  0.90663173,  0.91545582,  0.91715031,\n",
       "         0.91721451]),\n",
       " 'split4_train_score': array([ 0.        ,  0.        ,  0.10170238,  0.40354417,  0.61914544,\n",
       "         0.80256263,  0.80256263,  0.91278597,  0.91761455,  0.91873524,\n",
       "         0.91874706]),\n",
       " 'std_fit_time': array([ 0.00599995,  0.00600004,  0.00640001,  0.        ,  0.00600004,\n",
       "         0.        ,  0.        ,  0.        ,  0.00760003,  0.00600004,\n",
       "         0.00640001]),\n",
       " 'std_score_time': array([ 0.        ,  0.        ,  0.        ,  0.        ,  0.        ,\n",
       "         0.        ,  0.        ,  0.00640001,  0.        ,  0.        ,  0.        ]),\n",
       " 'std_test_score': array([ 0.00454648,  0.00454648,  0.00772881,  0.00915443,  0.01210994,\n",
       "         0.01338426,  0.01338426,  0.01120067,  0.01112753,  0.01117685,\n",
       "         0.0111832 ]),\n",
       " 'std_train_score': array([ 0.        ,  0.        ,  0.00612198,  0.00463608,  0.00424303,\n",
       "         0.00406222,  0.00406222,  0.0027822 ,  0.00283281,  0.00283975,\n",
       "         0.00283982])}"
      ]
     },
     "execution_count": 61,
     "metadata": {},
     "output_type": "execute_result"
    }
   ],
   "source": [
    "gs.cv_results_"
   ]
  },
  {
   "cell_type": "code",
   "execution_count": 62,
   "metadata": {},
   "outputs": [
    {
     "data": {
      "text/plain": [
       "0.91665492132470516"
      ]
     },
     "execution_count": 62,
     "metadata": {},
     "output_type": "execute_result"
    }
   ],
   "source": [
    "gs.best_score_"
   ]
  },
  {
   "cell_type": "code",
   "execution_count": 63,
   "metadata": {},
   "outputs": [
    {
     "data": {
      "text/plain": [
       "{'alpha': 1e-05, 'normalize': True}"
      ]
     },
     "execution_count": 63,
     "metadata": {},
     "output_type": "execute_result"
    }
   ],
   "source": [
    "gs.best_params_"
   ]
  },
  {
   "cell_type": "code",
   "execution_count": 64,
   "metadata": {},
   "outputs": [
    {
     "data": {
      "text/plain": [
       "Lasso(alpha=1e-05, copy_X=True, fit_intercept=True, max_iter=1000,\n",
       "   normalize=True, positive=False, precompute=False, random_state=None,\n",
       "   selection='cyclic', tol=0.0001, warm_start=False)"
      ]
     },
     "execution_count": 64,
     "metadata": {},
     "output_type": "execute_result"
    }
   ],
   "source": [
    "gs.best_estimator_"
   ]
  },
  {
   "cell_type": "markdown",
   "metadata": {},
   "source": [
    "## optimized lasso parameter with alpha=1e-5"
   ]
  },
  {
   "cell_type": "code",
   "execution_count": 66,
   "metadata": {},
   "outputs": [
    {
     "data": {
      "text/plain": [
       "Index([u'const', u'RC', u'SA', u'WA', u'RA', u'OH', u'GA', u'GAD'], dtype='object')"
      ]
     },
     "execution_count": 66,
     "metadata": {},
     "output_type": "execute_result"
    }
   ],
   "source": [
    "X.columns"
   ]
  },
  {
   "cell_type": "code",
   "execution_count": 67,
   "metadata": {
    "collapsed": true
   },
   "outputs": [],
   "source": [
    "model_lasso_optimized=linear_model.Lasso(alpha=i, normalize=True).fit(X,y)"
   ]
  },
  {
   "cell_type": "code",
   "execution_count": 69,
   "metadata": {},
   "outputs": [
    {
     "name": "stdout",
     "output_type": "stream",
     "text": [
      "['0.00', '-65.74', '-0.09', '0.06', '-0.01', '3.90', '19.93', '0.21']\n"
     ]
    }
   ],
   "source": [
    "print(map(lambda coef: '{:2.2f}'.format(coef), model_lasso.coef_))"
   ]
  },
  {
   "cell_type": "code",
   "execution_count": 71,
   "metadata": {},
   "outputs": [
    {
     "data": {
      "text/html": [
       "<table class=\"simpletable\">\n",
       "<caption>OLS Regression Results</caption>\n",
       "<tr>\n",
       "  <th>Dep. Variable:</th>           <td>HL</td>        <th>  R-squared:         </th> <td>   0.919</td> \n",
       "</tr>\n",
       "<tr>\n",
       "  <th>Model:</th>                   <td>OLS</td>       <th>  Adj. R-squared:    </th> <td>   0.918</td> \n",
       "</tr>\n",
       "<tr>\n",
       "  <th>Method:</th>             <td>Least Squares</td>  <th>  F-statistic:       </th> <td>   998.3</td> \n",
       "</tr>\n",
       "<tr>\n",
       "  <th>Date:</th>             <td>Mon, 21 Aug 2017</td> <th>  Prob (F-statistic):</th> <td>4.31e-285</td>\n",
       "</tr>\n",
       "<tr>\n",
       "  <th>Time:</th>                 <td>21:04:13</td>     <th>  Log-Likelihood:    </th> <td> -1326.1</td> \n",
       "</tr>\n",
       "<tr>\n",
       "  <th>No. Observations:</th>      <td>   537</td>      <th>  AIC:               </th> <td>   2666.</td> \n",
       "</tr>\n",
       "<tr>\n",
       "  <th>Df Residuals:</th>          <td>   530</td>      <th>  BIC:               </th> <td>   2696.</td> \n",
       "</tr>\n",
       "<tr>\n",
       "  <th>Df Model:</th>              <td>     6</td>      <th>                     </th>     <td> </td>    \n",
       "</tr>\n",
       "<tr>\n",
       "  <th>Covariance Type:</th>      <td>nonrobust</td>    <th>                     </th>     <td> </td>    \n",
       "</tr>\n",
       "</table>\n",
       "<table class=\"simpletable\">\n",
       "<tr>\n",
       "    <td></td>       <th>coef</th>     <th>std err</th>      <th>t</th>      <th>P>|t|</th>  <th>[0.025</th>    <th>0.975]</th>  \n",
       "</tr>\n",
       "<tr>\n",
       "  <th>const</th> <td>   88.7481</td> <td>   22.045</td> <td>    4.026</td> <td> 0.000</td> <td>   45.442</td> <td>  132.054</td>\n",
       "</tr>\n",
       "<tr>\n",
       "  <th>RC</th>    <td>  -65.7739</td> <td>   11.921</td> <td>   -5.518</td> <td> 0.000</td> <td>  -89.191</td> <td>  -42.357</td>\n",
       "</tr>\n",
       "<tr>\n",
       "  <th>SA</th>    <td>   -0.0670</td> <td>    0.016</td> <td>   -4.312</td> <td> 0.000</td> <td>   -0.098</td> <td>   -0.036</td>\n",
       "</tr>\n",
       "<tr>\n",
       "  <th>WA</th>    <td>    0.0387</td> <td>    0.005</td> <td>    8.583</td> <td> 0.000</td> <td>    0.030</td> <td>    0.047</td>\n",
       "</tr>\n",
       "<tr>\n",
       "  <th>RA</th>    <td>   -0.0528</td> <td>    0.009</td> <td>   -6.056</td> <td> 0.000</td> <td>   -0.070</td> <td>   -0.036</td>\n",
       "</tr>\n",
       "<tr>\n",
       "  <th>OH</th>    <td>    3.8989</td> <td>    0.396</td> <td>    9.848</td> <td> 0.000</td> <td>    3.121</td> <td>    4.677</td>\n",
       "</tr>\n",
       "<tr>\n",
       "  <th>GA</th>    <td>   19.9277</td> <td>    0.960</td> <td>   20.765</td> <td> 0.000</td> <td>   18.042</td> <td>   21.813</td>\n",
       "</tr>\n",
       "<tr>\n",
       "  <th>GAD</th>   <td>    0.2118</td> <td>    0.082</td> <td>    2.569</td> <td> 0.010</td> <td>    0.050</td> <td>    0.374</td>\n",
       "</tr>\n",
       "</table>\n",
       "<table class=\"simpletable\">\n",
       "<tr>\n",
       "  <th>Omnibus:</th>       <td>17.136</td> <th>  Durbin-Watson:     </th> <td>   1.976</td>\n",
       "</tr>\n",
       "<tr>\n",
       "  <th>Prob(Omnibus):</th> <td> 0.000</td> <th>  Jarque-Bera (JB):  </th> <td>  36.724</td>\n",
       "</tr>\n",
       "<tr>\n",
       "  <th>Skew:</th>          <td> 0.081</td> <th>  Prob(JB):          </th> <td>1.06e-08</td>\n",
       "</tr>\n",
       "<tr>\n",
       "  <th>Kurtosis:</th>      <td> 4.271</td> <th>  Cond. No.          </th> <td>2.45e+16</td>\n",
       "</tr>\n",
       "</table>"
      ],
      "text/plain": [
       "<class 'statsmodels.iolib.summary.Summary'>\n",
       "\"\"\"\n",
       "                            OLS Regression Results                            \n",
       "==============================================================================\n",
       "Dep. Variable:                     HL   R-squared:                       0.919\n",
       "Model:                            OLS   Adj. R-squared:                  0.918\n",
       "Method:                 Least Squares   F-statistic:                     998.3\n",
       "Date:                Mon, 21 Aug 2017   Prob (F-statistic):          4.31e-285\n",
       "Time:                        21:04:13   Log-Likelihood:                -1326.1\n",
       "No. Observations:                 537   AIC:                             2666.\n",
       "Df Residuals:                     530   BIC:                             2696.\n",
       "Df Model:                           6                                         \n",
       "Covariance Type:            nonrobust                                         \n",
       "==============================================================================\n",
       "                 coef    std err          t      P>|t|      [0.025      0.975]\n",
       "------------------------------------------------------------------------------\n",
       "const         88.7481     22.045      4.026      0.000      45.442     132.054\n",
       "RC           -65.7739     11.921     -5.518      0.000     -89.191     -42.357\n",
       "SA            -0.0670      0.016     -4.312      0.000      -0.098      -0.036\n",
       "WA             0.0387      0.005      8.583      0.000       0.030       0.047\n",
       "RA            -0.0528      0.009     -6.056      0.000      -0.070      -0.036\n",
       "OH             3.8989      0.396      9.848      0.000       3.121       4.677\n",
       "GA            19.9277      0.960     20.765      0.000      18.042      21.813\n",
       "GAD            0.2118      0.082      2.569      0.010       0.050       0.374\n",
       "==============================================================================\n",
       "Omnibus:                       17.136   Durbin-Watson:                   1.976\n",
       "Prob(Omnibus):                  0.000   Jarque-Bera (JB):               36.724\n",
       "Skew:                           0.081   Prob(JB):                     1.06e-08\n",
       "Kurtosis:                       4.271   Cond. No.                     2.45e+16\n",
       "==============================================================================\n",
       "\n",
       "Warnings:\n",
       "[1] Standard Errors assume that the covariance matrix of the errors is correctly specified.\n",
       "[2] The smallest eigenvalue is 5.3e-25. This might indicate that there are\n",
       "strong multicollinearity problems or that the design matrix is singular.\n",
       "\"\"\""
      ]
     },
     "execution_count": 71,
     "metadata": {},
     "output_type": "execute_result"
    }
   ],
   "source": [
    "X = train_df.drop(['HL','CL','OR'], axis=1)\n",
    "X = sm.add_constant(X)\n",
    "y=train_df.HL\n",
    "model1 = sm.OLS(y,X).fit()\n",
    "model1.summary()"
   ]
  },
  {
   "cell_type": "markdown",
   "metadata": {},
   "source": [
    "## random forest"
   ]
  },
  {
   "cell_type": "code",
   "execution_count": 79,
   "metadata": {},
   "outputs": [
    {
     "name": "stderr",
     "output_type": "stream",
     "text": [
      "C:\\Users\\jmiller16\\AppData\\Local\\Continuum\\Anaconda2\\lib\\site-packages\\sklearn\\ensemble\\forest.py:723: UserWarning: Some inputs do not have OOB scores. This probably means too few trees were used to compute any reliable oob estimates.\n",
      "  warn(\"Some inputs do not have OOB scores. \"\n"
     ]
    },
    {
     "data": {
      "text/plain": [
       "GridSearchCV(cv=KFold(n_splits=5, random_state=12345, shuffle=True),\n",
       "       error_score='raise',\n",
       "       estimator=RandomForestRegressor(bootstrap=True, criterion='mse', max_depth=None,\n",
       "           max_features='auto', max_leaf_nodes=None,\n",
       "           min_impurity_split=1e-07, min_samples_leaf=1,\n",
       "           min_samples_split=2, min_weight_fraction_leaf=0.0,\n",
       "           n_estimators=10, n_jobs=1, oob_score=False, random_state=None,\n",
       "           verbose=0, warm_start=False),\n",
       "       fit_params={}, iid=True, n_jobs=1,\n",
       "       param_grid={'max_features': [2, 3, 4, 5, 6], 'oob_score': [True, False], 'min_samples_leaf': [5, 10, 15, 20, 25, 30]},\n",
       "       pre_dispatch='2*n_jobs', refit=True, return_train_score=True,\n",
       "       scoring=None, verbose=0)"
      ]
     },
     "execution_count": 79,
     "metadata": {},
     "output_type": "execute_result"
    }
   ],
   "source": [
    "cv = 5 # 5-fold CV\n",
    "max_features=[2,3,4,5,6]\n",
    "min_samples_leaf = [5,10,15,20,25,30]\n",
    "oob_score = [True, False]\n",
    "\n",
    "gs1 = model_selection.GridSearchCV(\n",
    "    estimator = ensemble.RandomForestRegressor(),\n",
    "    param_grid = {'max_features': max_features, \n",
    "                  'min_samples_leaf': min_samples_leaf,\n",
    "                  'oob_score': oob_score},\n",
    "    cv = model_selection.KFold(n_splits = cv, shuffle = True, random_state = 12345)\n",
    ")\n",
    "\n",
    "gs1.fit(X, y)"
   ]
  },
  {
   "cell_type": "code",
   "execution_count": 93,
   "metadata": {},
   "outputs": [
    {
     "data": {
      "text/plain": [
       "{'mean_fit_time': array([ 0.03160005,  0.02839999,  0.02199993,  0.01739998,  0.02179995,\n",
       "         0.03120003,  0.03119998,  0.02839999,  0.02480001,  0.02800002,\n",
       "         0.01580005,  0.01580005,  0.01540008,  0.02460003,  0.03179998,\n",
       "         0.03119998,  0.01860008,  0.01560006,  0.02520003,  0.03099999,\n",
       "         0.01879997,  0.01559992,  0.025     ,  0.025     ,  0.01859999,\n",
       "         0.03140001,  0.01539998,  0.02200007,  0.01880002,  0.025     ,\n",
       "         0.04059997,  0.05299997,  0.03140006,  0.02179999,  0.02520003,\n",
       "         0.01559997,  0.02199998,  0.0158    ,  0.025     ,  0.01560001,\n",
       "         0.02820001,  0.0158    ,  0.01900001,  0.03119998,  0.01860003,\n",
       "         0.01579995,  0.01879997,  0.03120008,  0.03120003,  0.01880002,\n",
       "         0.02179999,  0.02199998,  0.02179999,  0.01880002,  0.02519999,\n",
       "         0.01539998,  0.03119998,  0.01580005,  0.01580005,  0.02480001]),\n",
       " 'mean_score_time': array([ 0.00299997,  0.00599999,  0.01000004,  0.01340003,  0.00940003,\n",
       "         0.        ,  0.        ,  0.00300002,  0.        ,  0.        ,\n",
       "         0.        ,  0.        ,  0.00939994,  0.01599998,  0.00599999,\n",
       "         0.        ,  0.        ,  0.00959997,  0.00939999,  0.00639997,\n",
       "         0.00620003,  0.01580005,  0.00320001,  0.        ,  0.00640001,\n",
       "         0.        ,  0.00640001,  0.00919995,  0.00939999,  0.00939999,\n",
       "         0.00640001,  0.        ,  0.00320001,  0.00939999,  0.        ,\n",
       "         0.        ,  0.00300002,  0.00300002,  0.00299997,  0.        ,\n",
       "         0.00320001,  0.        ,  0.00599999,  0.        ,  0.        ,\n",
       "         0.        ,  0.00300002,  0.00320001,  0.00619998,  0.00619998,\n",
       "         0.00320001,  0.00299997,  0.00620003,  0.        ,  0.00599999,\n",
       "         0.01260004,  0.        ,  0.        ,  0.00320001,  0.00639997]),\n",
       " 'mean_test_score': array([ 0.98241151,  0.98077902,  0.95827463,  0.95579342,  0.94055819,\n",
       "         0.9432086 ,  0.92825006,  0.9258316 ,  0.91255375,  0.91069878,\n",
       "         0.9039013 ,  0.89981564,  0.98478856,  0.98218435,  0.95806473,\n",
       "         0.95945232,  0.94212438,  0.94399609,  0.93221971,  0.93266522,\n",
       "         0.91928503,  0.92056688,  0.91163854,  0.90989746,  0.98624728,\n",
       "         0.9849405 ,  0.96275756,  0.96338621,  0.95151993,  0.95282617,\n",
       "         0.93448277,  0.93271116,  0.92266976,  0.92764148,  0.91712989,\n",
       "         0.90996724,  0.98604057,  0.98754484,  0.96764838,  0.96548065,\n",
       "         0.95488395,  0.95479999,  0.93749751,  0.93667942,  0.92783106,\n",
       "         0.92102652,  0.91541078,  0.91857479,  0.98943658,  0.98858712,\n",
       "         0.96754969,  0.966262  ,  0.95585319,  0.95417799,  0.93763897,\n",
       "         0.93927522,  0.92597218,  0.92652014,  0.92171989,  0.91918157]),\n",
       " 'mean_train_score': array([ 0.98699552,  0.98610744,  0.96359334,  0.96297078,  0.94501079,\n",
       "         0.94557382,  0.93568366,  0.93441486,  0.91709295,  0.91509826,\n",
       "         0.90675316,  0.90259684,  0.98801113,  0.98692183,  0.96390606,\n",
       "         0.96523337,  0.9487058 ,  0.94820148,  0.93798553,  0.93834473,\n",
       "         0.925679  ,  0.92544892,  0.91777738,  0.91476244,  0.98956009,\n",
       "         0.98964796,  0.96798254,  0.96823509,  0.95459035,  0.9565508 ,\n",
       "         0.93805299,  0.93791441,  0.92733149,  0.93122686,  0.91980829,\n",
       "         0.91699333,  0.99032793,  0.99182642,  0.97315942,  0.971037  ,\n",
       "         0.95772351,  0.95822362,  0.94050842,  0.93895781,  0.93184715,\n",
       "         0.92697793,  0.92196621,  0.92419654,  0.99241622,  0.99301619,\n",
       "         0.97417209,  0.97197529,  0.95917381,  0.95786697,  0.94186524,\n",
       "         0.9412687 ,  0.93120899,  0.93068172,  0.9257842 ,  0.92468507]),\n",
       " 'param_max_features': masked_array(data = [2 2 2 2 2 2 2 2 2 2 2 2 3 3 3 3 3 3 3 3 3 3 3 3 4 4 4 4 4 4 4 4 4 4 4 4 5\n",
       "  5 5 5 5 5 5 5 5 5 5 5 6 6 6 6 6 6 6 6 6 6 6 6],\n",
       "              mask = [False False False False False False False False False False False False\n",
       "  False False False False False False False False False False False False\n",
       "  False False False False False False False False False False False False\n",
       "  False False False False False False False False False False False False\n",
       "  False False False False False False False False False False False False],\n",
       "        fill_value = ?),\n",
       " 'param_min_samples_leaf': masked_array(data = [5 5 10 10 15 15 20 20 25 25 30 30 5 5 10 10 15 15 20 20 25 25 30 30 5 5 10\n",
       "  10 15 15 20 20 25 25 30 30 5 5 10 10 15 15 20 20 25 25 30 30 5 5 10 10 15\n",
       "  15 20 20 25 25 30 30],\n",
       "              mask = [False False False False False False False False False False False False\n",
       "  False False False False False False False False False False False False\n",
       "  False False False False False False False False False False False False\n",
       "  False False False False False False False False False False False False\n",
       "  False False False False False False False False False False False False],\n",
       "        fill_value = ?),\n",
       " 'param_oob_score': masked_array(data = [True False True False True False True False True False True False True\n",
       "  False True False True False True False True False True False True False\n",
       "  True False True False True False True False True False True False True\n",
       "  False True False True False True False True False True False True False\n",
       "  True False True False True False True False],\n",
       "              mask = [False False False False False False False False False False False False\n",
       "  False False False False False False False False False False False False\n",
       "  False False False False False False False False False False False False\n",
       "  False False False False False False False False False False False False\n",
       "  False False False False False False False False False False False False],\n",
       "        fill_value = ?),\n",
       " 'params': ({'max_features': 2, 'min_samples_leaf': 5, 'oob_score': True},\n",
       "  {'max_features': 2, 'min_samples_leaf': 5, 'oob_score': False},\n",
       "  {'max_features': 2, 'min_samples_leaf': 10, 'oob_score': True},\n",
       "  {'max_features': 2, 'min_samples_leaf': 10, 'oob_score': False},\n",
       "  {'max_features': 2, 'min_samples_leaf': 15, 'oob_score': True},\n",
       "  {'max_features': 2, 'min_samples_leaf': 15, 'oob_score': False},\n",
       "  {'max_features': 2, 'min_samples_leaf': 20, 'oob_score': True},\n",
       "  {'max_features': 2, 'min_samples_leaf': 20, 'oob_score': False},\n",
       "  {'max_features': 2, 'min_samples_leaf': 25, 'oob_score': True},\n",
       "  {'max_features': 2, 'min_samples_leaf': 25, 'oob_score': False},\n",
       "  {'max_features': 2, 'min_samples_leaf': 30, 'oob_score': True},\n",
       "  {'max_features': 2, 'min_samples_leaf': 30, 'oob_score': False},\n",
       "  {'max_features': 3, 'min_samples_leaf': 5, 'oob_score': True},\n",
       "  {'max_features': 3, 'min_samples_leaf': 5, 'oob_score': False},\n",
       "  {'max_features': 3, 'min_samples_leaf': 10, 'oob_score': True},\n",
       "  {'max_features': 3, 'min_samples_leaf': 10, 'oob_score': False},\n",
       "  {'max_features': 3, 'min_samples_leaf': 15, 'oob_score': True},\n",
       "  {'max_features': 3, 'min_samples_leaf': 15, 'oob_score': False},\n",
       "  {'max_features': 3, 'min_samples_leaf': 20, 'oob_score': True},\n",
       "  {'max_features': 3, 'min_samples_leaf': 20, 'oob_score': False},\n",
       "  {'max_features': 3, 'min_samples_leaf': 25, 'oob_score': True},\n",
       "  {'max_features': 3, 'min_samples_leaf': 25, 'oob_score': False},\n",
       "  {'max_features': 3, 'min_samples_leaf': 30, 'oob_score': True},\n",
       "  {'max_features': 3, 'min_samples_leaf': 30, 'oob_score': False},\n",
       "  {'max_features': 4, 'min_samples_leaf': 5, 'oob_score': True},\n",
       "  {'max_features': 4, 'min_samples_leaf': 5, 'oob_score': False},\n",
       "  {'max_features': 4, 'min_samples_leaf': 10, 'oob_score': True},\n",
       "  {'max_features': 4, 'min_samples_leaf': 10, 'oob_score': False},\n",
       "  {'max_features': 4, 'min_samples_leaf': 15, 'oob_score': True},\n",
       "  {'max_features': 4, 'min_samples_leaf': 15, 'oob_score': False},\n",
       "  {'max_features': 4, 'min_samples_leaf': 20, 'oob_score': True},\n",
       "  {'max_features': 4, 'min_samples_leaf': 20, 'oob_score': False},\n",
       "  {'max_features': 4, 'min_samples_leaf': 25, 'oob_score': True},\n",
       "  {'max_features': 4, 'min_samples_leaf': 25, 'oob_score': False},\n",
       "  {'max_features': 4, 'min_samples_leaf': 30, 'oob_score': True},\n",
       "  {'max_features': 4, 'min_samples_leaf': 30, 'oob_score': False},\n",
       "  {'max_features': 5, 'min_samples_leaf': 5, 'oob_score': True},\n",
       "  {'max_features': 5, 'min_samples_leaf': 5, 'oob_score': False},\n",
       "  {'max_features': 5, 'min_samples_leaf': 10, 'oob_score': True},\n",
       "  {'max_features': 5, 'min_samples_leaf': 10, 'oob_score': False},\n",
       "  {'max_features': 5, 'min_samples_leaf': 15, 'oob_score': True},\n",
       "  {'max_features': 5, 'min_samples_leaf': 15, 'oob_score': False},\n",
       "  {'max_features': 5, 'min_samples_leaf': 20, 'oob_score': True},\n",
       "  {'max_features': 5, 'min_samples_leaf': 20, 'oob_score': False},\n",
       "  {'max_features': 5, 'min_samples_leaf': 25, 'oob_score': True},\n",
       "  {'max_features': 5, 'min_samples_leaf': 25, 'oob_score': False},\n",
       "  {'max_features': 5, 'min_samples_leaf': 30, 'oob_score': True},\n",
       "  {'max_features': 5, 'min_samples_leaf': 30, 'oob_score': False},\n",
       "  {'max_features': 6, 'min_samples_leaf': 5, 'oob_score': True},\n",
       "  {'max_features': 6, 'min_samples_leaf': 5, 'oob_score': False},\n",
       "  {'max_features': 6, 'min_samples_leaf': 10, 'oob_score': True},\n",
       "  {'max_features': 6, 'min_samples_leaf': 10, 'oob_score': False},\n",
       "  {'max_features': 6, 'min_samples_leaf': 15, 'oob_score': True},\n",
       "  {'max_features': 6, 'min_samples_leaf': 15, 'oob_score': False},\n",
       "  {'max_features': 6, 'min_samples_leaf': 20, 'oob_score': True},\n",
       "  {'max_features': 6, 'min_samples_leaf': 20, 'oob_score': False},\n",
       "  {'max_features': 6, 'min_samples_leaf': 25, 'oob_score': True},\n",
       "  {'max_features': 6, 'min_samples_leaf': 25, 'oob_score': False},\n",
       "  {'max_features': 6, 'min_samples_leaf': 30, 'oob_score': True},\n",
       "  {'max_features': 6, 'min_samples_leaf': 30, 'oob_score': False}),\n",
       " 'rank_test_score': array([ 8, 10, 18, 21, 30, 28, 39, 44, 54, 56, 59, 60,  7,  9, 19, 17, 29,\n",
       "        27, 38, 37, 49, 48, 55, 58,  4,  6, 16, 15, 26, 25, 35, 36, 45, 41,\n",
       "        52, 57,  5,  3, 11, 14, 22, 23, 33, 34, 40, 47, 53, 51,  1,  2, 12,\n",
       "        13, 20, 24, 32, 31, 43, 42, 46, 50]),\n",
       " 'split0_test_score': array([ 0.98175624,  0.98181762,  0.94746332,  0.94390358,  0.92769459,\n",
       "         0.94897924,  0.93137931,  0.92527021,  0.90730643,  0.90267143,\n",
       "         0.88949383,  0.89844252,  0.98223205,  0.98168365,  0.95780819,\n",
       "         0.9503282 ,  0.93375968,  0.92699428,  0.91147408,  0.92464177,\n",
       "         0.9044873 ,  0.90975817,  0.89911717,  0.89214068,  0.98357027,\n",
       "         0.98122164,  0.95317998,  0.9591226 ,  0.94093759,  0.9442934 ,\n",
       "         0.92618086,  0.91930451,  0.91998679,  0.92730032,  0.91634896,\n",
       "         0.90471844,  0.98453867,  0.98615764,  0.95533232,  0.94859516,\n",
       "         0.9484142 ,  0.93993539,  0.93138531,  0.93364608,  0.91897328,\n",
       "         0.91742363,  0.90846931,  0.90744737,  0.98627034,  0.98050708,\n",
       "         0.95298894,  0.9477091 ,  0.94601054,  0.94156698,  0.92506586,\n",
       "         0.92622108,  0.91519103,  0.91744664,  0.9103999 ,  0.91211362]),\n",
       " 'split0_train_score': array([ 0.98796815,  0.98596211,  0.95910225,  0.96050302,  0.94194486,\n",
       "         0.95934321,  0.94465007,  0.9402534 ,  0.91785082,  0.91477527,\n",
       "         0.9077921 ,  0.90379448,  0.98768966,  0.98841741,  0.97546046,\n",
       "         0.96911397,  0.95209398,  0.94108567,  0.9307592 ,  0.94006166,\n",
       "         0.92435206,  0.92432804,  0.91753833,  0.91044577,  0.98957088,\n",
       "         0.9895743 ,  0.96687586,  0.97105909,  0.95528399,  0.95771407,\n",
       "         0.94278545,  0.93447475,  0.93676336,  0.94376323,  0.93001813,\n",
       "         0.92459951,  0.98960248,  0.99303785,  0.97502494,  0.97267954,\n",
       "         0.96060138,  0.95930587,  0.9446652 ,  0.94343134,  0.93804142,\n",
       "         0.93456598,  0.92856575,  0.92475884,  0.99236779,  0.99221813,\n",
       "         0.97613376,  0.97518214,  0.96128047,  0.96207255,  0.94543452,\n",
       "         0.94667849,  0.93479273,  0.93864315,  0.92933518,  0.93116839]),\n",
       " 'split1_test_score': array([ 0.9860827 ,  0.98934063,  0.97071443,  0.9707406 ,  0.94937483,\n",
       "         0.9480249 ,  0.94908903,  0.94631364,  0.93470521,  0.91850442,\n",
       "         0.91475779,  0.90656291,  0.99070528,  0.9892727 ,  0.97453995,\n",
       "         0.9732874 ,  0.95495407,  0.96132791,  0.94656923,  0.95926761,\n",
       "         0.94030032,  0.92792645,  0.92878056,  0.9267133 ,  0.99417528,\n",
       "         0.99155596,  0.97907229,  0.98193264,  0.96446886,  0.9618688 ,\n",
       "         0.95471491,  0.95080649,  0.93227727,  0.93285886,  0.92784038,\n",
       "         0.92708863,  0.99373531,  0.99511797,  0.98252972,  0.98001491,\n",
       "         0.96353686,  0.96702754,  0.95189911,  0.95277229,  0.94213055,\n",
       "         0.93742482,  0.92729075,  0.91973765,  0.99408551,  0.99543715,\n",
       "         0.97743485,  0.97877272,  0.96765021,  0.96365385,  0.95266126,\n",
       "         0.95698705,  0.93992865,  0.93809566,  0.93258936,  0.92922543]),\n",
       " 'split1_train_score': array([ 0.98777236,  0.98741148,  0.97056185,  0.96419363,  0.936046  ,\n",
       "         0.92798524,  0.93987235,  0.94429923,  0.92475292,  0.90161997,\n",
       "         0.89053044,  0.88823745,  0.98820143,  0.98951266,  0.96253692,\n",
       "         0.96312425,  0.94687252,  0.94542981,  0.93329833,  0.94168359,\n",
       "         0.93121493,  0.92050062,  0.91852399,  0.91360889,  0.99075271,\n",
       "         0.98968249,  0.9666817 ,  0.97118636,  0.95247932,  0.951753  ,\n",
       "         0.93816421,  0.94109526,  0.91721362,  0.91855126,  0.9136845 ,\n",
       "         0.92249196,  0.99268861,  0.99367326,  0.97558526,  0.9709548 ,\n",
       "         0.95104709,  0.95405806,  0.93580427,  0.93536721,  0.92895282,\n",
       "         0.92590247,  0.91854369,  0.91652919,  0.99281755,  0.99518767,\n",
       "         0.97238038,  0.97090034,  0.95982739,  0.9534227 ,  0.93552155,\n",
       "         0.94113664,  0.92658628,  0.92418166,  0.92356738,  0.92238686]),\n",
       " 'split2_test_score': array([ 0.98359193,  0.9866342 ,  0.96228439,  0.95565429,  0.9423617 ,\n",
       "         0.95123545,  0.92056401,  0.94155377,  0.90501582,  0.92930682,\n",
       "         0.90822347,  0.91057059,  0.98319242,  0.98164457,  0.96031976,\n",
       "         0.96275823,  0.94507596,  0.94888063,  0.93529951,  0.93222591,\n",
       "         0.90823981,  0.92681283,  0.91418642,  0.91782623,  0.98396157,\n",
       "         0.98470108,  0.97189749,  0.96357402,  0.9573888 ,  0.95976606,\n",
       "         0.93849602,  0.93534963,  0.93177085,  0.93507742,  0.92385984,\n",
       "         0.92002972,  0.98390525,  0.98135025,  0.97603543,  0.96896214,\n",
       "         0.96298521,  0.95942944,  0.94214419,  0.93724292,  0.93381918,\n",
       "         0.93390236,  0.92525546,  0.92892095,  0.98844794,  0.99200211,\n",
       "         0.97347131,  0.97254821,  0.96220674,  0.96124479,  0.94764249,\n",
       "         0.94371158,  0.93667965,  0.93372876,  0.92580282,  0.9212348 ]),\n",
       " 'split2_train_score': array([ 0.98800954,  0.99100465,  0.96388476,  0.96115084,  0.9472729 ,\n",
       "         0.9527392 ,  0.92784647,  0.93810611,  0.90096073,  0.92449329,\n",
       "         0.90674822,  0.90813733,  0.98916708,  0.9873733 ,  0.96169263,\n",
       "         0.96117581,  0.94563419,  0.95159091,  0.93515484,  0.93249423,\n",
       "         0.90952572,  0.92059391,  0.91087993,  0.91158896,  0.98917573,\n",
       "         0.99030606,  0.96886804,  0.96417634,  0.95169717,  0.95578853,\n",
       "         0.93686631,  0.9338827 ,  0.92463635,  0.92827837,  0.91448643,\n",
       "         0.91505581,  0.98953116,  0.99098815,  0.97453803,  0.96813541,\n",
       "         0.96011345,  0.95684499,  0.93839736,  0.93545447,  0.92732414,\n",
       "         0.92687541,  0.92076653,  0.92375771,  0.9916139 ,  0.99335389,\n",
       "         0.97484713,  0.96810056,  0.95663796,  0.95778846,  0.94516565,\n",
       "         0.94147789,  0.93209076,  0.92786942,  0.92149426,  0.91842699]),\n",
       " 'split3_test_score': array([ 0.96919768,  0.9700853 ,  0.93365336,  0.94950448,  0.94020888,\n",
       "         0.91379765,  0.91019756,  0.89867853,  0.89073245,  0.88361367,\n",
       "         0.90312265,  0.88364366,  0.98031422,  0.96724764,  0.93978663,\n",
       "         0.95057171,  0.92535046,  0.93773876,  0.92747234,  0.91409473,\n",
       "         0.91550197,  0.90305769,  0.89116432,  0.895685  ,  0.98564658,\n",
       "         0.98632076,  0.94830112,  0.94619538,  0.93946654,  0.94126609,\n",
       "         0.91817123,  0.91643811,  0.90169938,  0.90739434,  0.90764519,\n",
       "         0.87855686,  0.98320967,  0.98868135,  0.95949224,  0.96111445,\n",
       "         0.93924742,  0.94385644,  0.92383905,  0.92272008,  0.90735478,\n",
       "         0.88489039,  0.89425142,  0.90301074,  0.98811665,  0.98744709,\n",
       "         0.96039767,  0.95967732,  0.93919207,  0.94438597,  0.92731246,\n",
       "         0.92918744,  0.91079944,  0.917724  ,  0.90984235,  0.90888143]),\n",
       " 'split3_train_score': array([ 0.98191803,  0.9834937 ,  0.95167424,  0.96599006,  0.95538193,\n",
       "         0.93905429,  0.93641081,  0.92669916,  0.92107412,  0.9150209 ,\n",
       "         0.9239245 ,  0.91532039,  0.98649894,  0.9790883 ,  0.9576568 ,\n",
       "         0.96695855,  0.94909893,  0.95334297,  0.948129  ,  0.93746461,\n",
       "         0.93487225,  0.92785491,  0.91640874,  0.92225545,  0.99029132,\n",
       "         0.99066715,  0.96880895,  0.96450243,  0.95890591,  0.95983037,\n",
       "         0.93723062,  0.93908777,  0.92580609,  0.93004935,  0.92989998,\n",
       "         0.90902467,  0.9901314 ,  0.99230744,  0.97087812,  0.97179178,\n",
       "         0.95819064,  0.96038088,  0.94460327,  0.93960563,  0.9302456 ,\n",
       "         0.91748848,  0.91969626,  0.92396859,  0.99215142,  0.99271193,\n",
       "         0.97254675,  0.97216616,  0.95737609,  0.95693469,  0.94298065,\n",
       "         0.94119924,  0.93198246,  0.93532213,  0.92648961,  0.92764995]),\n",
       " 'split4_test_score': array([ 0.99140078,  0.97592764,  0.97724245,  0.95913556,  0.94318875,\n",
       "         0.95390681,  0.92979636,  0.9171557 ,  0.92485087,  0.91939964,\n",
       "         0.90394193,  0.89980829,  0.98746746,  0.99101164,  0.95771752,\n",
       "         0.96027204,  0.95143999,  0.94503579,  0.94034316,  0.93292242,\n",
       "         0.92783764,  0.93531149,  0.92490103,  0.91713088,  0.98383361,\n",
       "         0.98087599,  0.96127394,  0.96597294,  0.95531575,  0.95693172,\n",
       "         0.93473936,  0.94161323,  0.92754979,  0.93553088,  0.90986225,\n",
       "         0.91933158,  0.98475606,  0.98635916,  0.9648282 ,  0.96873857,\n",
       "         0.96021564,  0.96377581,  0.93814243,  0.93689369,  0.93682667,\n",
       "         0.93137182,  0.92174083,  0.93385039,  0.9902486 ,  0.98755367,\n",
       "         0.97349939,  0.97265913,  0.96418811,  0.96006763,  0.93548992,\n",
       "         0.94022544,  0.92723244,  0.92558227,  0.92996923,  0.92442477]),\n",
       " 'split4_train_score': array([ 0.98930954,  0.98266527,  0.97274363,  0.96301635,  0.94440824,\n",
       "         0.94874717,  0.92963857,  0.9227164 ,  0.92082614,  0.91958188,\n",
       "         0.90477055,  0.89749453,  0.98849852,  0.99021749,  0.96218347,\n",
       "         0.96579427,  0.94982938,  0.94955803,  0.9425863 ,  0.94001955,\n",
       "         0.92843004,  0.93396713,  0.92553593,  0.91591311,  0.98800983,\n",
       "         0.98800981,  0.96867817,  0.97025124,  0.95458537,  0.95766804,\n",
       "         0.93521836,  0.94103156,  0.93223805,  0.93549207,  0.9109524 ,\n",
       "         0.91379468,  0.98968599,  0.9891254 ,  0.96977075,  0.97162345,\n",
       "         0.95866498,  0.9605283 ,  0.939072  ,  0.94093042,  0.93467177,\n",
       "         0.93005731,  0.92225883,  0.93196838,  0.99313043,  0.99160932,\n",
       "         0.97495244,  0.97352727,  0.96074715,  0.95911644,  0.94022385,\n",
       "         0.93585123,  0.93059269,  0.92739222,  0.92803459,  0.92379314]),\n",
       " 'std_fit_time': array([ 0.00048982,  0.0062162 ,  0.00734844,  0.00332262,  0.00793476,\n",
       "         0.00040002,  0.00040004,  0.00621609,  0.00801001,  0.00651149,\n",
       "         0.00039997,  0.00039997,  0.00048986,  0.0078384 ,  0.00980617,\n",
       "         0.00040004,  0.00621613,  0.00048986,  0.00752064,  0.01698237,\n",
       "         0.00661518,  0.00048984,  0.00777168,  0.00777168,  0.00621607,\n",
       "         0.00048984,  0.00048994,  0.00777176,  0.00661516,  0.00734854,\n",
       "         0.00783842,  0.00817312,  0.01386507,  0.00793473,  0.00752064,\n",
       "         0.00048998,  0.00777175,  0.00040007,  0.00777179,  0.00048992,\n",
       "         0.00611227,  0.00040007,  0.00651156,  0.00039992,  0.00621616,\n",
       "         0.00039992,  0.00611224,  0.00039999,  0.00040002,  0.00611234,\n",
       "         0.00752056,  0.00777174,  0.00752065,  0.00611222,  0.0075206 ,\n",
       "         0.00048984,  0.00040004,  0.00039997,  0.00039997,  0.00800992]),\n",
       " 'std_score_time': array([  5.99994659e-03,   7.34846222e-03,   6.66337910e-03,\n",
       "          4.71596882e-03,   7.68377552e-03,   0.00000000e+00,\n",
       "          0.00000000e+00,   6.00004196e-03,   0.00000000e+00,\n",
       "          0.00000000e+00,   0.00000000e+00,   0.00000000e+00,\n",
       "          7.68369981e-03,   9.53674316e-08,   7.34846222e-03,\n",
       "          0.00000000e+00,   0.00000000e+00,   7.83834413e-03,\n",
       "          7.68374076e-03,   7.83832466e-03,   7.60003266e-03,\n",
       "          3.99971008e-04,   6.40001297e-03,   0.00000000e+00,\n",
       "          7.83838306e-03,   0.00000000e+00,   7.83838306e-03,\n",
       "          7.52059661e-03,   7.68373456e-03,   7.68373456e-03,\n",
       "          7.83838306e-03,   0.00000000e+00,   6.40001297e-03,\n",
       "          7.68374076e-03,   0.00000000e+00,   0.00000000e+00,\n",
       "          6.00004196e-03,   6.00004196e-03,   5.99994659e-03,\n",
       "          0.00000000e+00,   6.40001297e-03,   0.00000000e+00,\n",
       "          7.34846222e-03,   0.00000000e+00,   0.00000000e+00,\n",
       "          0.00000000e+00,   6.00004196e-03,   6.40001297e-03,\n",
       "          7.59997744e-03,   7.59997744e-03,   6.40001297e-03,\n",
       "          5.99994659e-03,   7.60003266e-03,   0.00000000e+00,\n",
       "          7.34846222e-03,   6.31191199e-03,   0.00000000e+00,\n",
       "          0.00000000e+00,   6.40001297e-03,   7.83832466e-03]),\n",
       " 'std_test_score': array([ 0.00734621,  0.00701896,  0.01582123,  0.00913647,  0.00713891,\n",
       "         0.01481088,  0.01290312,  0.01719287,  0.01550985,  0.01598331,\n",
       "         0.00832435,  0.00920297,  0.00377911,  0.00837822,  0.01105483,\n",
       "         0.00855947,  0.01105742,  0.01145951,  0.0121449 ,  0.01496805,\n",
       "         0.01321349,  0.0121065 ,  0.01450855,  0.01354561,  0.00404424,\n",
       "         0.00390717,  0.01143267,  0.01153514,  0.00974306,  0.0084066 ,\n",
       "         0.01234602,  0.01311279,  0.01135275,  0.01051673,  0.00778895,\n",
       "         0.01728388,  0.00389817,  0.00448387,  0.01019317,  0.01039981,\n",
       "         0.00953604,  0.01089469,  0.00952803,  0.00963514,  0.01279513,\n",
       "         0.01926766,  0.01243305,  0.01188552,  0.00265257,  0.00503616,\n",
       "         0.00930188,  0.01119699,  0.01116561,  0.00927425,  0.01092186,\n",
       "         0.01103373,  0.01147095,  0.00833379,  0.00972235,  0.00760216]),\n",
       " 'std_train_score': array([ 0.00259667,  0.00297941,  0.00767604,  0.00200078,  0.0063688 ,\n",
       "         0.01098063,  0.00626794,  0.00826802,  0.00835804,  0.00761766,\n",
       "         0.01061171,  0.00923305,  0.00089443,  0.00403432,  0.00603819,\n",
       "         0.00280222,  0.00226682,  0.004429  ,  0.00642276,  0.00322192,\n",
       "         0.00877975,  0.00505296,  0.00469591,  0.00418341,  0.00094955,\n",
       "         0.00091236,  0.0009867 ,  0.00319863,  0.00252714,  0.00271871,\n",
       "         0.00255061,  0.00313997,  0.00670815,  0.0083199 ,  0.00837058,\n",
       "         0.00575454,  0.00119872,  0.00161913,  0.00236444,  0.00155162,\n",
       "         0.00345465,  0.00246532,  0.00354106,  0.00314608,  0.00394328,\n",
       "         0.00562633,  0.0035198 ,  0.00489388,  0.00052675,  0.00122785,\n",
       "         0.00146729,  0.00240408,  0.00184407,  0.002824  ,  0.00368275,\n",
       "         0.00342581,  0.0026821 ,  0.00540182,  0.0028806 ,  0.00438326])}"
      ]
     },
     "execution_count": 93,
     "metadata": {},
     "output_type": "execute_result"
    }
   ],
   "source": [
    "gs1.cv_results_"
   ]
  },
  {
   "cell_type": "code",
   "execution_count": 83,
   "metadata": {},
   "outputs": [
    {
     "data": {
      "text/plain": [
       "0.98943657947404895"
      ]
     },
     "execution_count": 83,
     "metadata": {},
     "output_type": "execute_result"
    }
   ],
   "source": [
    "gs1.best_score_"
   ]
  },
  {
   "cell_type": "code",
   "execution_count": 84,
   "metadata": {},
   "outputs": [
    {
     "data": {
      "text/plain": [
       "{'max_features': 6, 'min_samples_leaf': 5, 'oob_score': True}"
      ]
     },
     "execution_count": 84,
     "metadata": {},
     "output_type": "execute_result"
    }
   ],
   "source": [
    "gs1.best_params_"
   ]
  },
  {
   "cell_type": "code",
   "execution_count": 86,
   "metadata": {},
   "outputs": [
    {
     "data": {
      "text/plain": [
       "RandomForestRegressor(bootstrap=True, criterion='mse', max_depth=None,\n",
       "           max_features=6, max_leaf_nodes=None, min_impurity_split=1e-07,\n",
       "           min_samples_leaf=5, min_samples_split=2,\n",
       "           min_weight_fraction_leaf=0.0, n_estimators=10, n_jobs=1,\n",
       "           oob_score=True, random_state=None, verbose=0, warm_start=False)"
      ]
     },
     "execution_count": 86,
     "metadata": {},
     "output_type": "execute_result"
    }
   ],
   "source": [
    "gs1.best_estimator_"
   ]
  },
  {
   "cell_type": "code",
   "execution_count": 90,
   "metadata": {},
   "outputs": [],
   "source": [
    "model_rf=ensemble.RandomForestRegressor(bootstrap=True, criterion='mse', max_depth=None,\n",
    "           max_features=6, max_leaf_nodes=None, min_impurity_split=1e-07,\n",
    "           min_samples_leaf=5, min_samples_split=2,\n",
    "           min_weight_fraction_leaf=0.0, n_estimators=10, n_jobs=1,\n",
    "           oob_score=True, random_state=None, verbose=0, warm_start=False).fit(X,y)"
   ]
  },
  {
   "cell_type": "code",
   "execution_count": 92,
   "metadata": {},
   "outputs": [
    {
     "data": {
      "text/plain": [
       "[(0.34510256741205386, 'RC'),\n",
       " (0.2419530765169246, 'OH'),\n",
       " (0.20678914396742099, 'SA'),\n",
       " (0.081232912657048489, 'RA'),\n",
       " (0.061016067542637775, 'GA'),\n",
       " (0.036388284596383533, 'WA'),\n",
       " (0.02751794730753071, 'GAD'),\n",
       " (0.0, 'const')]"
      ]
     },
     "execution_count": 92,
     "metadata": {},
     "output_type": "execute_result"
    }
   ],
   "source": [
    "sorted(zip(model_rf.feature_importances_, X.columns.values), reverse = True)"
   ]
  },
  {
   "cell_type": "code",
   "execution_count": null,
   "metadata": {
    "collapsed": true
   },
   "outputs": [],
   "source": []
  }
 ],
 "metadata": {
  "kernelspec": {
   "display_name": "Python 2",
   "language": "python",
   "name": "python2"
  },
  "language_info": {
   "codemirror_mode": {
    "name": "ipython",
    "version": 2
   },
   "file_extension": ".py",
   "mimetype": "text/x-python",
   "name": "python",
   "nbconvert_exporter": "python",
   "pygments_lexer": "ipython2",
   "version": "2.7.13"
  }
 },
 "nbformat": 4,
 "nbformat_minor": 1
}
