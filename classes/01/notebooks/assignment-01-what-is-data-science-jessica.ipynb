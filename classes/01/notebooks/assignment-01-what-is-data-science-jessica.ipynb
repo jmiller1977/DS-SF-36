{
 "cells": [
  {
   "cell_type": "markdown",
   "metadata": {},
   "source": [
    "# DS-SF-36 | 01 | What is Data Science | Assignment | Starter Code"
   ]
  },
  {
   "cell_type": "markdown",
   "metadata": {},
   "source": [
    "## Python"
   ]
  },
  {
   "cell_type": "markdown",
   "metadata": {},
   "source": [
    "> ## \"Data scientists' most basic, universal skill is the ability to write code.\"\n",
    ">\n",
    "> Harvard Business Review | “Data Scientists: The Sexiest Job of the 21st Century” (2012)\n",
    ">\n",
    "> (https://hbr.org/2012/10/data-scientist-the-sexiest-job-of-the-21st-century)\n",
    "\n",
    "Today, to give you some more practice beyond the course pre-requisites, we are going to implement a few functions in Python.  This assignment covers to some extend the following topics:\n",
    "\n",
    "- Functions (defining and using your own functions but also calling functions from packages)\n",
    "- Loops\n",
    "- Arithmetic operations\n",
    "- Conditional statements\n",
    "\n",
    "**Don't worry if you get stuck.  Ask around, review the answer key, and ask around more.  As this course progresses, your programming proficiency will increase.**"
   ]
  },
  {
   "cell_type": "code",
   "execution_count": 1,
   "metadata": {},
   "outputs": [
    {
     "name": "stdout",
     "output_type": "stream",
     "text": [
      "test-jessica\n"
     ]
    }
   ],
   "source": [
    "print(\"test-jessica\")"
   ]
  },
  {
   "cell_type": "markdown",
   "metadata": {},
   "source": [
    "> ### Question 1.  Multiples of 3 and 5\n",
    ">\n",
    "> If we list all the natural numbers below 10 that are multiples of 3 or 5, we get 3, 5, 6 and 9.  The sum of these multiples is 23.\n",
    ">\n",
    "> Find the sum of all the multiples of 3 or 5 below 1,000.\n",
    ">\n",
    "> (Source: [Project Euler | Problem 1](https://projecteuler.net/problem=1))"
   ]
  },
  {
   "cell_type": "code",
   "execution_count": 2,
   "metadata": {},
   "outputs": [
    {
     "name": "stdout",
     "output_type": "stream",
     "text": [
      "233168\n"
     ]
    }
   ],
   "source": [
    "# TODO\n",
    "sum_1 = 0\n",
    "for i in range(1000):\n",
    "    if (i%3 == 0) or (i%5 == 0):\n",
    "        sum_1=sum_1+i \n",
    "print(sum_1)        "
   ]
  },
  {
   "cell_type": "markdown",
   "metadata": {},
   "source": [
    "Answer: TODO"
   ]
  },
  {
   "cell_type": "markdown",
   "metadata": {},
   "source": [
    "> ### Question 2.  Estimating square roots\n",
    ">\n",
    "> Given a real number $m$, let's define the series $u$ as follow:\n",
    "> - $u_0 = 1$\n",
    "> - $u_{n+1} = \\frac{u_n ^ 2 + m}{2u_n}$\n",
    ">\n",
    ">\n",
    "> Implement the calculations of the series $u$ above to estimate square roots.  Verify that $\\sqrt{144} = 12$ and use your function to calculate $\\sqrt{1024}$."
   ]
  },
  {
   "cell_type": "code",
   "execution_count": 21,
   "metadata": {},
   "outputs": [
    {
     "name": "stdout",
     "output_type": "stream",
     "text": [
      "12.0\n",
      "32.0\n"
     ]
    }
   ],
   "source": [
    "# TODO\n",
    "number2=144\n",
    "\n",
    "def my_sqrt(num):\n",
    "    u2=1\n",
    "    for i in range(10):\n",
    "        u2=(u2**2+num)/(2*u2)\n",
    "        #print(u2)    \n",
    "    return u2\n",
    "\n",
    "number2_sqrt=my_sqrt(number2)\n",
    "print(number2_sqrt)\n",
    "print(my_sqrt(1024))\n",
    "    "
   ]
  },
  {
   "cell_type": "markdown",
   "metadata": {},
   "source": [
    "Answer: TODO"
   ]
  },
  {
   "cell_type": "markdown",
   "metadata": {},
   "source": [
    "> ### Question 3.  Prime Numbers\n",
    ">\n",
    "> A prime (number) is a natural number greater than 1 that has no positive divisors other than 1 and itself.  ([Wikipedia](https://en.wikipedia.org/wiki/Prime_number))\n",
    ">\n",
    "> Calculate all primes below 1,000.  What's their sum?"
   ]
  },
  {
   "cell_type": "code",
   "execution_count": 68,
   "metadata": {},
   "outputs": [
    {
     "name": "stdout",
     "output_type": "stream",
     "text": [
      "1060\n",
      "[2, 3, 5, 7, 11, 13, 17, 19, 23, 29, 31, 37, 41, 43, 47, 53, 59, 61, 67, 71, 73, 79, 83, 89, 97]\n"
     ]
    }
   ],
   "source": [
    "# TODO\n",
    "number3=100\n",
    "\n",
    "list3=[]\n",
    "\n",
    "for i in range(2,number3):\n",
    "    counter=0\n",
    "    #print(\"i\",i)\n",
    "    for j in range(2,int(my_sqrt(i))+1):\n",
    "        #print(\"j\",j)\n",
    "        if i%j == 0:\n",
    "            #print(\"==0\",i,j)\n",
    "            counter=counter+1\n",
    "            #print(\"counter\",counter)\n",
    "            break\n",
    "        #print(\"counter\",counter)    \n",
    "        \n",
    "    if counter==0:\n",
    "        list3.append(i)\n",
    "            \n",
    "                \n",
    "print(sum(list3))\n",
    "print(list3)"
   ]
  },
  {
   "cell_type": "markdown",
   "metadata": {},
   "source": [
    "Answer: TODO"
   ]
  },
  {
   "cell_type": "markdown",
   "metadata": {},
   "source": [
    "> ### Question 4.  Largest prime factor\n",
    ">\n",
    "> The prime factors of 13195 are 5, 7, 13 and 29.\n",
    ">\n",
    "> What is the largest prime factor of the number 600851475143?\n",
    ">\n",
    "> (Source: [Project Euler | Problem 3](https://projecteuler.net/problem=3))"
   ]
  },
  {
   "cell_type": "code",
   "execution_count": null,
   "metadata": {},
   "outputs": [],
   "source": [
    "# TODO\n",
    "number4=600851475143\n",
    "#number4=13195\n",
    "\n",
    "\n",
    "list4=list()\n",
    "\n",
    "for i in range(2,number4):\n",
    "    counter=0\n",
    "    #print(\"i\",i)\n",
    "    for j in range(2,int(my_sqrt(i))+1):\n",
    "        #print(\"j\",j)\n",
    "        if i%j == 0:\n",
    "            #print(\"==0\",i,j)\n",
    "            counter=counter+1\n",
    "            #print(\"counter\",counter)\n",
    "            break\n",
    "        #print(\"counter\",counter)    \n",
    "        \n",
    "    if counter==0:\n",
    "        list4.append(i)\n",
    "            \n",
    "#print(list4)\n",
    "\n",
    "list4_alt=[]\n",
    "\n",
    "for i in reversed(list4):\n",
    "    if number4%i==0:\n",
    "        list4_alt.append(i)\n",
    "        \n",
    "print(list4_alt)\n",
    "print(min(list4_alt))"
   ]
  },
  {
   "cell_type": "markdown",
   "metadata": {},
   "source": [
    "Answer: TODO"
   ]
  },
  {
   "cell_type": "markdown",
   "metadata": {},
   "source": [
    "> ### Question 5.  Mean\n",
    ">\n",
    "> Write a function to calculate the mean (average) of a list.\n",
    ">\n",
    "> What's the mean of 10, 8, 13, 9, 11, 14, 6, 4, 12, 7, and 5?"
   ]
  },
  {
   "cell_type": "code",
   "execution_count": 5,
   "metadata": {},
   "outputs": [
    {
     "name": "stdout",
     "output_type": "stream",
     "text": [
      "9.0\n"
     ]
    }
   ],
   "source": [
    "# TODO\n",
    "lst5=[10,8,13,9,11,14,6,4,12,7,5]\n",
    "\n",
    "def my_mean(lst):\n",
    "    lst_mean=sum(lst)/len(lst)\n",
    "    return lst_mean\n",
    "\n",
    "lst_mean5=my_mean(lst5)\n",
    "print(lst_mean5)"
   ]
  },
  {
   "cell_type": "markdown",
   "metadata": {},
   "source": [
    "Answer: TODO"
   ]
  },
  {
   "cell_type": "markdown",
   "metadata": {},
   "source": [
    "> ### Question 6.  Sample standard deviation\n",
    ">\n",
    "> Write a function to calculate the standard deviation of a sample.\n",
    ">\n",
    "> Given the sample $x_1, x_2, ..., x_N$, its standard deviation is defined as $s = \\sqrt{\\frac{1}{N - 1} \\sum_{i = 1}^{N} (x_i  - \\bar{x})^2}$, with $\\bar{x}$ as the sample mean.\n",
    ">\n",
    "> What's the standard deviation of the following sample: 10, 8, 13, 9, 11, 14, 6, 4, 12, 7, and 5?\n",
    ">\n",
    "> ([Wikipedia](https://en.wikipedia.org/wiki/Standard_deviation#Sample_standard_deviation))"
   ]
  },
  {
   "cell_type": "code",
   "execution_count": 6,
   "metadata": {},
   "outputs": [
    {
     "name": "stdout",
     "output_type": "stream",
     "text": [
      "9.0\n",
      "0 1.0\n",
      "1 2.0\n",
      "2 18.0\n",
      "3 18.0\n",
      "4 22.0\n",
      "5 47.0\n",
      "6 56.0\n",
      "7 81.0\n",
      "8 90.0\n",
      "9 94.0\n",
      "10 110.0\n",
      "3.3166247903554\n"
     ]
    }
   ],
   "source": [
    "# TODO\n",
    "lst6=[10,8,13,9,11,14,6,4,12,7,5]\n",
    "lst_mean6=sum(lst6)/len(lst6)\n",
    "print(lst_mean6)\n",
    "\n",
    "sum6=0\n",
    "for i in range(len(lst6)):\n",
    "    sum6=sum6+(lst6[i]-lst_mean6)**2\n",
    "    print(i, sum6)\n",
    "\n",
    "\n",
    "stdev=my_sqrt(1/(len(lst6)-1)*sum6)\n",
    "print(stdev)"
   ]
  },
  {
   "cell_type": "markdown",
   "metadata": {},
   "source": [
    "Answer: TODO"
   ]
  },
  {
   "cell_type": "markdown",
   "metadata": {},
   "source": [
    "> ### Question 7.  Median\n",
    ">\n",
    "> Write a function to calculate the median (\"middle value\") of a list.  ([Wikipedia](https://en.wikipedia.org/wiki/Median))\n",
    ">\n",
    "> What's the median of 10, 8, 13, 9, 11, 14, 6, 4, 12, 7, and 5?"
   ]
  },
  {
   "cell_type": "code",
   "execution_count": 7,
   "metadata": {},
   "outputs": [
    {
     "name": "stdout",
     "output_type": "stream",
     "text": [
      "[4, 5, 6, 7, 8, 9, 10, 11, 12, 13, 14]\n",
      "11\n",
      "5\n",
      "9\n"
     ]
    }
   ],
   "source": [
    "# TODO\n",
    "\n",
    "lst=[10,8,13,9,11,14,6,4,12,7,5]\n",
    "lst.sort()\n",
    "print(lst)\n",
    "\n",
    "lst_length=len(lst)\n",
    "print(lst_length)\n",
    "\n",
    "middle=int(lst_length/2)\n",
    "print(middle)\n",
    "\n",
    "def my_med(lst):\n",
    "    lst_med=lst[middle]\n",
    "    print(lst_med)\n",
    "\n",
    "my_med(lst)    "
   ]
  },
  {
   "cell_type": "markdown",
   "metadata": {},
   "source": [
    "Answer: TODO"
   ]
  },
  {
   "cell_type": "markdown",
   "metadata": {},
   "source": [
    "> ### Question 8.  Mode\n",
    ">\n",
    "> Write a function to calculate the mode (\"most frequent value\") of a list.  ([Wikipedia](https://en.wikipedia.org/wiki/Mode_(statistics)))\n",
    ">\n",
    "> What's the mode of 10, 8, 13, 9, 11, 14, 6, 4, 12, 7 and 5?  How about the mode of 8, 8, 8, 8, 8, 8, 19, 8, 8 and 8?"
   ]
  },
  {
   "cell_type": "code",
   "execution_count": 8,
   "metadata": {},
   "outputs": [
    {
     "name": "stdout",
     "output_type": "stream",
     "text": [
      "{4: 1, 5: 1, 6: 1, 7: 1, 8: 1, 9: 1, 10: 1, 11: 1, 12: 1, 13: 1, 14: 1}\n",
      "The mode does not exist\n",
      "{8: 9, 19: 1}\n",
      "The mode is : 8\n"
     ]
    }
   ],
   "source": [
    "# todo\n",
    "\n",
    "lst8=[10,8,13,9,11,14,6,4,12,7,5]\n",
    "lst8_alt=[8,8,8,8,8,8,19,8,8,8]\n",
    "\n",
    "\n",
    "def my_mode(list):\n",
    "    counter=dict()\n",
    "    for num in list:\n",
    "        if num not in counter:\n",
    "            counter[num]=1\n",
    "        else:\n",
    "            counter[num]+=1\n",
    "\n",
    "    print(counter)\n",
    "\n",
    "    max_em=0\n",
    "    max_count=0\n",
    "        \n",
    "    for key in counter:\n",
    "        if counter[key]>max_count:\n",
    "            max_em=key\n",
    "            max_count=counter[key]\n",
    "        \n",
    "    if max_count==1:\n",
    "        print('The mode does not exist')\n",
    "    else:\n",
    "        print('The mode is :', max_em)\n",
    "\n",
    "my_mode(lst8)\n",
    "my_mode(lst8_alt)"
   ]
  },
  {
   "cell_type": "markdown",
   "metadata": {},
   "source": [
    "Answer: TODO"
   ]
  }
 ],
 "metadata": {
  "kernelspec": {
   "display_name": "Python 3",
   "language": "python",
   "name": "python3"
  },
  "language_info": {
   "codemirror_mode": {
    "name": "ipython",
    "version": 3
   },
   "file_extension": ".py",
   "mimetype": "text/x-python",
   "name": "python",
   "nbconvert_exporter": "python",
   "pygments_lexer": "ipython3",
   "version": "3.5.3"
  }
 },
 "nbformat": 4,
 "nbformat_minor": 1
}
